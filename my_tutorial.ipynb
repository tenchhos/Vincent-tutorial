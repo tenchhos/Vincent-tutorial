{
 "cells": [
  {
   "cell_type": "markdown",
   "metadata": {
    "slideshow": {
     "slide_type": "-"
    }
   },
   "source": [
    "# Vincent - The data capabilities of Python. The visualization capabilities of JavaScript."
   ]
  },
  {
   "cell_type": "markdown",
   "metadata": {},
   "source": [
    "This is a tutorial about how to use Vincent, a data visualisation tool in python.\n",
    "\n",
    "Author: Tenzin Chhosphel, CSC 599.69, CCNY"
   ]
  },
  {
   "cell_type": "markdown",
   "metadata": {},
   "source": [
    "# Introduction\n",
    "\n",
    "Vega is a visualization grammar, a declarative format for creating and saving interactive visualization designs. With Vega you can describe data visualizations in a JSON format, and generate interactive views using either HTML5 Canvas or SVG. \n",
    "\n",
    "Built on top of D3, Vega makes building visualization easier. Vega is built by Trifacta, a company that builds data wrangling and exploratory analysis platform.\n",
    "\n",
    "Vincent makes it easy to build Vega with python. Vincent allows you to build Vega specifications in a Pythonic way, and performs type-checking to help ensure that your specifications are correct. It also has a number of convenience chart-building methods that quickly turn Python data structures into Vega visualization grammar, enabling graphical exploration. It allows for quick iteration of visualization designs via getters and setters on grammar elements, and outputs the final visualization to JSON. Perhaps most importantly, Vincent has Pandas-Fu, and is built specifically to allow for quick plotting of DataFrames and Series. \n",
    "\n",
    "The core concept of Vincent is that it possess the data capabilities of Python, and visualization capabilites of JavaScript. \n",
    "\n",
    "More information can be found on http://vincent.readthedocs.io/\n"
   ]
  },
  {
   "cell_type": "markdown",
   "metadata": {},
   "source": [
    "# Installation\n",
    "\n",
    "You can install Vincent by doing the following command using pip:\n",
    "\n",
    "*$pip install vincent*\n",
    "\n",
    "Because Vincent depends on Pandas, before you install Vincent, make sure to have installed Pandas. If not installed already, you can install Pandas doing the following command using pip:\n",
    "\n",
    "*$pip install pandas*\n",
    "\n",
    "Because Pandas depends on NumPy, before you install Pandas, make sure to have installed NumPy. If not installed already, you can install NumPy doing the following command using pip:\n",
    "\n",
    "*$pip install numpy*\n",
    "\n",
    "\n",
    "\n",
    "Having trouble installation? \n",
    "\n",
    "A full guide for installation can be found on https://github.com/wrobstory/vincent\n",
    "\n"
   ]
  },
  {
   "cell_type": "code",
   "execution_count": 75,
   "metadata": {
    "collapsed": false
   },
   "outputs": [
    {
     "data": {
      "text/html": [
       "\n",
       "           <script>\n",
       "               \n",
       "                function vct_load_lib(url, callback){\n",
       "                      if(typeof d3 !== 'undefined' &&\n",
       "                         url === 'http://d3js.org/d3.v3.min.js'){\n",
       "                        callback()\n",
       "                      }\n",
       "                      var s = document.createElement('script');\n",
       "                      s.src = url;\n",
       "                      s.async = true;\n",
       "                      s.onreadystatechange = s.onload = callback;\n",
       "                      s.onerror = function(){\n",
       "                        console.warn(\"failed to load library \" + url);\n",
       "                        };\n",
       "                      document.getElementsByTagName(\"head\")[0].appendChild(s);\n",
       "                };\n",
       "                var vincent_event = new CustomEvent(\n",
       "                  \"vincent_libs_loaded\",\n",
       "                  {bubbles: true, cancelable: true}\n",
       "                );\n",
       "                \n",
       "               function load_all_libs(){\n",
       "                  console.log('Loading Vincent libs...')\n",
       "                  vct_load_lib('http://d3js.org/d3.v3.min.js', function(){\n",
       "                  vct_load_lib('http://d3js.org/d3.geo.projection.v0.min.js', function(){\n",
       "                  vct_load_lib('http://wrobstory.github.io/d3-cloud/d3.layout.cloud.js', function(){\n",
       "                  vct_load_lib('http://wrobstory.github.io/vega/vega.v1.3.3.js', function(){\n",
       "                  window.dispatchEvent(vincent_event);\n",
       "                  });\n",
       "                  });\n",
       "                  });\n",
       "                  });\n",
       "               };\n",
       "               if(typeof define === \"function\" && define.amd){\n",
       "                    if (window['d3'] === undefined ||\n",
       "                        window['topojson'] === undefined){\n",
       "                        require.config(\n",
       "                            {paths: {\n",
       "                              d3: 'http://d3js.org/d3.v3.min',\n",
       "                              topojson: 'http://d3js.org/topojson.v1.min'\n",
       "                              }\n",
       "                            }\n",
       "                          );\n",
       "                        require([\"d3\"], function(d3){\n",
       "                            console.log('Loading Vincent from require.js...')\n",
       "                            window.d3 = d3;\n",
       "                            require([\"topojson\"], function(topojson){\n",
       "                                window.topojson = topojson;\n",
       "                                load_all_libs();\n",
       "                            });\n",
       "                        });\n",
       "                    } else {\n",
       "                        load_all_libs();\n",
       "                    };\n",
       "               }else{\n",
       "                    console.log('Require.js not found, loading manually...')\n",
       "                    load_all_libs();\n",
       "               };\n",
       "\n",
       "           </script>"
      ],
      "text/plain": [
       "<IPython.core.display.HTML object>"
      ]
     },
     "metadata": {},
     "output_type": "display_data"
    }
   ],
   "source": [
    "# Before you use Vincent, you need to import Vincent\n",
    "import vincent\n",
    "\n",
    "# Then before anything, you need to load all necessary JavaScript libraries\n",
    "vincent.initialize_notebook()"
   ]
  },
  {
   "cell_type": "markdown",
   "metadata": {},
   "source": [
    "# Get Started\n",
    "\n",
    "To get started using Vincent, first import Vincent with the above command. Once imported, you need to load all neccessary JavaScript libraries using initiliaze_notebook(). \n",
    "\n",
    "Once the libraries are loaded, you are ready to go!\n",
    "\n",
    "You can easily plot all different kinds of graphs using Vincent. But, for the sake of keeping this tutorial easy, we'll plot some of the basic graphs. \n",
    "\n",
    "Following is what we'll plot:\n",
    "\n",
    "    * Bar Graph\n",
    "    * Area Graph\n",
    "    * Line Graph\n",
    "    * Scatter Plots\n",
    "   \n",
    "Once we get familiar with the basic graphs, we'll plot a more complex real world data. But, you must know the basics first in order to understand the more complex one. "
   ]
  },
  {
   "cell_type": "code",
   "execution_count": 76,
   "metadata": {
    "collapsed": false
   },
   "outputs": [
    {
     "data": {
      "text/html": [
       "<div id=\"visbfb816273499449da40fc889dc1c8691\"></div>\n",
       "<script>\n",
       "   ( function() {\n",
       "     var _do_plot = function() {\n",
       "       if (typeof vg === 'undefined') {\n",
       "         window.addEventListener('vincent_libs_loaded', _do_plot)\n",
       "         return;\n",
       "       }\n",
       "       vg.parse.spec({\"axes\": [{\"scale\": \"x\", \"title\": \"Index\", \"type\": \"x\"}, {\"scale\": \"y\", \"title\": \"Value\", \"type\": \"y\"}], \"data\": [{\"name\": \"table\", \"values\": [{\"col\": \"data\", \"idx\": 0, \"val\": 0}, {\"col\": \"data\", \"idx\": 1, \"val\": 10}, {\"col\": \"data\", \"idx\": 2, \"val\": 20}, {\"col\": \"data\", \"idx\": 3, \"val\": 30}, {\"col\": \"data\", \"idx\": 4, \"val\": 40}, {\"col\": \"data\", \"idx\": 5, \"val\": 50}, {\"col\": \"data\", \"idx\": 6, \"val\": 40}, {\"col\": \"data\", \"idx\": 7, \"val\": 30}, {\"col\": \"data\", \"idx\": 8, \"val\": 20}, {\"col\": \"data\", \"idx\": 9, \"val\": 10}, {\"col\": \"data\", \"idx\": 10, \"val\": 0}]}, {\"name\": \"stats\", \"source\": \"table\", \"transform\": [{\"keys\": [\"data.idx\"], \"type\": \"facet\"}, {\"type\": \"stats\", \"value\": \"data.val\"}]}], \"height\": 200, \"legends\": [], \"marks\": [{\"from\": {\"data\": \"table\", \"transform\": [{\"keys\": [\"data.col\"], \"type\": \"facet\"}, {\"height\": \"data.val\", \"point\": \"data.idx\", \"type\": \"stack\"}]}, \"marks\": [{\"properties\": {\"enter\": {\"fill\": {\"field\": \"data.col\", \"scale\": \"color\"}, \"width\": {\"band\": true, \"offset\": -1, \"scale\": \"x\"}, \"x\": {\"field\": \"data.idx\", \"scale\": \"x\"}, \"y\": {\"field\": \"y\", \"scale\": \"y\"}, \"y2\": {\"field\": \"y2\", \"scale\": \"y\"}}}, \"type\": \"rect\"}], \"type\": \"group\"}], \"padding\": \"auto\", \"scales\": [{\"domain\": {\"data\": \"table\", \"field\": \"data.idx\"}, \"name\": \"x\", \"range\": \"width\", \"type\": \"ordinal\", \"zero\": false}, {\"domain\": {\"data\": \"stats\", \"field\": \"sum\"}, \"name\": \"y\", \"nice\": true, \"range\": \"height\"}, {\"domain\": {\"data\": \"table\", \"field\": \"data.col\"}, \"name\": \"color\", \"range\": \"category20\", \"type\": \"ordinal\"}], \"width\": 400}, function(chart) {\n",
       "         chart({el: \"#visbfb816273499449da40fc889dc1c8691\"}).update();\n",
       "       });\n",
       "     };\n",
       "     _do_plot();\n",
       "   })();\n",
       "</script>\n",
       "<style>.vega canvas {width: 100%;}</style>\n",
       "        "
      ],
      "text/plain": [
       "<IPython.core.display.HTML object>"
      ]
     },
     "metadata": {},
     "output_type": "display_data"
    }
   ],
   "source": [
    "# let's make a list of some integers\n",
    "list_data = [0, 10, 20, 30, 40, 50, 40, 30, 20, 10, 0]\n",
    "\n",
    "# now we'll use Vincent's Bar object to plot a bar graph\n",
    "bar = vincent.Bar(list_data)\n",
    "\n",
    "# set the size of the graph\n",
    "bar.width = 400\n",
    "bar.height = 200\n",
    "\n",
    "# label axes\n",
    "bar.axis_titles(x='Index', y='Value')\n",
    "\n",
    "# let's see how the bar graph looks\n",
    "bar.display()"
   ]
  },
  {
   "cell_type": "markdown",
   "metadata": {
    "collapsed": true
   },
   "source": [
    "# Bar Graph\n",
    "\n",
    "Bar graphs can be plotted by simply using passing a list fo data to vincent.Bar(data) object. You can assign a variable to your graph, and you can set the window size of the graph by setting its width, and height. From now own I will be refering to this variable as 'graph variable.'\n",
    "\n",
    "You can display the graph in notebook by using display() or just by simply  having the graph variable. In fact, change the bar.display() statement with just bar, you should see the same graph.\n",
    "\n",
    "### Label Axes\n",
    "\n",
    "Labeling the axes is simple. Just pass in label name for x and y in axis_title(x, y) as shown above. "
   ]
  },
  {
   "cell_type": "code",
   "execution_count": 77,
   "metadata": {
    "collapsed": false
   },
   "outputs": [
    {
     "data": {
      "text/html": [
       "<div id=\"vise4dd1b64c4924a879403656cb14e1b69\"></div>\n",
       "<script>\n",
       "   ( function() {\n",
       "     var _do_plot = function() {\n",
       "       if (typeof vg === 'undefined') {\n",
       "         window.addEventListener('vincent_libs_loaded', _do_plot)\n",
       "         return;\n",
       "       }\n",
       "       vg.parse.spec({\"axes\": [{\"scale\": \"x\", \"title\": \"Index\", \"type\": \"x\"}, {\"scale\": \"y\", \"title\": \"Value\", \"type\": \"y\"}], \"data\": [{\"name\": \"table\", \"values\": [{\"col\": \"data\", \"idx\": 0, \"val\": 40}, {\"col\": \"data\", \"idx\": 1, \"val\": 50}, {\"col\": \"data\", \"idx\": 2, \"val\": 25}, {\"col\": \"data\", \"idx\": 3, \"val\": 30}, {\"col\": \"data\", \"idx\": 4, \"val\": 60}, {\"col\": \"data\", \"idx\": 5, \"val\": 50}, {\"col\": \"data\", \"idx\": 6, \"val\": 20}, {\"col\": \"data\", \"idx\": 7, \"val\": 10}, {\"col\": \"data\", \"idx\": 8, \"val\": 45}, {\"col\": \"data\", \"idx\": 9, \"val\": 70}]}, {\"name\": \"stats\", \"source\": \"table\", \"transform\": [{\"keys\": [\"data.idx\"], \"type\": \"facet\"}, {\"type\": \"stats\", \"value\": \"data.val\"}]}], \"height\": 200, \"legends\": [], \"marks\": [{\"from\": {\"data\": \"table\", \"transform\": [{\"keys\": [\"data.col\"], \"type\": \"facet\"}, {\"height\": \"data.val\", \"point\": \"data.idx\", \"type\": \"stack\"}]}, \"marks\": [{\"properties\": {\"enter\": {\"fill\": {\"field\": \"data.col\", \"scale\": \"color\"}, \"interpolate\": {\"value\": \"monotone\"}, \"x\": {\"field\": \"data.idx\", \"scale\": \"x\"}, \"y\": {\"field\": \"y\", \"scale\": \"y\"}, \"y2\": {\"field\": \"y2\", \"scale\": \"y\"}}}, \"type\": \"area\"}], \"type\": \"group\"}], \"padding\": \"auto\", \"scales\": [{\"domain\": {\"data\": \"table\", \"field\": \"data.idx\"}, \"name\": \"x\", \"range\": \"width\", \"type\": \"linear\", \"zero\": false}, {\"domain\": {\"data\": \"stats\", \"field\": \"sum\"}, \"name\": \"y\", \"nice\": true, \"range\": \"height\"}, {\"domain\": {\"data\": \"table\", \"field\": \"data.col\"}, \"name\": \"color\", \"range\": \"category20\", \"type\": \"ordinal\"}], \"width\": 400}, function(chart) {\n",
       "         chart({el: \"#vise4dd1b64c4924a879403656cb14e1b69\"}).update();\n",
       "       });\n",
       "     };\n",
       "     _do_plot();\n",
       "   })();\n",
       "</script>\n",
       "<style>.vega canvas {width: 100%;}</style>\n",
       "        "
      ],
      "text/plain": [
       "<IPython.core.display.HTML object>"
      ]
     },
     "metadata": {},
     "output_type": "display_data"
    }
   ],
   "source": [
    "# let's make a list of some integers\n",
    "list_data = [40, 50, 25, 30, 60, 50, 20, 10, 45, 70]\n",
    "\n",
    "# now we'll use Vincent's Area object to plot a area graph\n",
    "area = vincent.Area(list_data)\n",
    "\n",
    "# set the size of the graph\n",
    "area.width = 400\n",
    "area.height = 200\n",
    "\n",
    "# label axes\n",
    "area.axis_titles(x='Index', y='Value')\n",
    "\n",
    "# let's see how the bar graph looks\n",
    "area.display()"
   ]
  },
  {
   "cell_type": "markdown",
   "metadata": {},
   "source": [
    "# Area Graph\n",
    "\n",
    "Like bar graphs, area graphs can be plotted by simply using passing a list fo data to vincent.Area(data) object. The area formed under the line formed from the data will be shaded as shown above. And like bar graphs, you can assign a variable to your graph, and you can set the window size of the graph by setting its width, and height. \n",
    "\n",
    "You can display the graph in notebook by using display() or just by simply  having the graph variable. In fact, change the area.display() statement with just area, you should see the same graph.\n",
    "\n",
    "### Label Axes\n",
    "\n",
    "Labeling the axes is simple. Just pass in label name for x and y in axis_title(x, y) as shown above. "
   ]
  },
  {
   "cell_type": "code",
   "execution_count": 78,
   "metadata": {
    "collapsed": false
   },
   "outputs": [
    {
     "data": {
      "text/html": [
       "<div id=\"visf9e9878d55564e21be01d3fabce4bb8d\"></div>\n",
       "<script>\n",
       "   ( function() {\n",
       "     var _do_plot = function() {\n",
       "       if (typeof vg === 'undefined') {\n",
       "         window.addEventListener('vincent_libs_loaded', _do_plot)\n",
       "         return;\n",
       "       }\n",
       "       vg.parse.spec({\"axes\": [{\"scale\": \"x\", \"title\": \"Index\", \"type\": \"x\"}, {\"scale\": \"y\", \"title\": \"Value\", \"type\": \"y\"}], \"data\": [{\"name\": \"table\", \"values\": [{\"col\": \"Data A\", \"idx\": 0, \"val\": 71}, {\"col\": \"Data A\", \"idx\": 1, \"val\": 35}, {\"col\": \"Data A\", \"idx\": 2, \"val\": 10}, {\"col\": \"Data A\", \"idx\": 3, \"val\": 94}, {\"col\": \"Data A\", \"idx\": 4, \"val\": 35}, {\"col\": \"Data A\", \"idx\": 5, \"val\": 7}, {\"col\": \"Data A\", \"idx\": 6, \"val\": 56}, {\"col\": \"Data A\", \"idx\": 7, \"val\": 63}, {\"col\": \"Data A\", \"idx\": 8, \"val\": 61}, {\"col\": \"Data A\", \"idx\": 9, \"val\": 79}, {\"col\": \"Data A\", \"idx\": 10, \"val\": 34}, {\"col\": \"Data A\", \"idx\": 11, \"val\": 96}, {\"col\": \"Data A\", \"idx\": 12, \"val\": 40}, {\"col\": \"Data A\", \"idx\": 13, \"val\": 24}, {\"col\": \"Data A\", \"idx\": 14, \"val\": 70}, {\"col\": \"Data A\", \"idx\": 15, \"val\": 83}, {\"col\": \"Data A\", \"idx\": 16, \"val\": 64}, {\"col\": \"Data A\", \"idx\": 17, \"val\": 70}, {\"col\": \"Data A\", \"idx\": 18, \"val\": 97}, {\"col\": \"Data A\", \"idx\": 19, \"val\": 27}, {\"col\": \"Data A\", \"idx\": 20, \"val\": 76}, {\"col\": \"Data B\", \"idx\": 0, \"val\": 1}, {\"col\": \"Data B\", \"idx\": 1, \"val\": 62}, {\"col\": \"Data B\", \"idx\": 2, \"val\": 80}, {\"col\": \"Data B\", \"idx\": 3, \"val\": 77}, {\"col\": \"Data B\", \"idx\": 4, \"val\": 30}, {\"col\": \"Data B\", \"idx\": 5, \"val\": 72}, {\"col\": \"Data B\", \"idx\": 6, \"val\": 5}, {\"col\": \"Data B\", \"idx\": 7, \"val\": 96}, {\"col\": \"Data B\", \"idx\": 8, \"val\": 25}, {\"col\": \"Data B\", \"idx\": 9, \"val\": 85}, {\"col\": \"Data B\", \"idx\": 10, \"val\": 57}, {\"col\": \"Data B\", \"idx\": 11, \"val\": 53}, {\"col\": \"Data B\", \"idx\": 12, \"val\": 63}, {\"col\": \"Data B\", \"idx\": 13, \"val\": 71}, {\"col\": \"Data B\", \"idx\": 14, \"val\": 25}, {\"col\": \"Data B\", \"idx\": 15, \"val\": 64}, {\"col\": \"Data B\", \"idx\": 16, \"val\": 54}, {\"col\": \"Data B\", \"idx\": 17, \"val\": 52}, {\"col\": \"Data B\", \"idx\": 18, \"val\": 37}, {\"col\": \"Data B\", \"idx\": 19, \"val\": 42}, {\"col\": \"Data B\", \"idx\": 20, \"val\": 97}, {\"col\": \"Data C\", \"idx\": 0, \"val\": 89}, {\"col\": \"Data C\", \"idx\": 1, \"val\": 68}, {\"col\": \"Data C\", \"idx\": 2, \"val\": 14}, {\"col\": \"Data C\", \"idx\": 3, \"val\": 47}, {\"col\": \"Data C\", \"idx\": 4, \"val\": 99}, {\"col\": \"Data C\", \"idx\": 5, \"val\": 87}, {\"col\": \"Data C\", \"idx\": 6, \"val\": 32}, {\"col\": \"Data C\", \"idx\": 7, \"val\": 17}, {\"col\": \"Data C\", \"idx\": 8, \"val\": 34}, {\"col\": \"Data C\", \"idx\": 9, \"val\": 77}, {\"col\": \"Data C\", \"idx\": 10, \"val\": 90}, {\"col\": \"Data C\", \"idx\": 11, \"val\": 39}, {\"col\": \"Data C\", \"idx\": 12, \"val\": 32}, {\"col\": \"Data C\", \"idx\": 13, \"val\": 4}, {\"col\": \"Data C\", \"idx\": 14, \"val\": 59}, {\"col\": \"Data C\", \"idx\": 15, \"val\": 88}, {\"col\": \"Data C\", \"idx\": 16, \"val\": 100}, {\"col\": \"Data C\", \"idx\": 17, \"val\": 98}, {\"col\": \"Data C\", \"idx\": 18, \"val\": 45}, {\"col\": \"Data C\", \"idx\": 19, \"val\": 67}, {\"col\": \"Data C\", \"idx\": 20, \"val\": 12}, {\"col\": \"Data D\", \"idx\": 0, \"val\": 3}, {\"col\": \"Data D\", \"idx\": 1, \"val\": 42}, {\"col\": \"Data D\", \"idx\": 2, \"val\": 37}, {\"col\": \"Data D\", \"idx\": 3, \"val\": 63}, {\"col\": \"Data D\", \"idx\": 4, \"val\": 33}, {\"col\": \"Data D\", \"idx\": 5, \"val\": 3}, {\"col\": \"Data D\", \"idx\": 6, \"val\": 66}, {\"col\": \"Data D\", \"idx\": 7, \"val\": 56}, {\"col\": \"Data D\", \"idx\": 8, \"val\": 10}, {\"col\": \"Data D\", \"idx\": 9, \"val\": 62}, {\"col\": \"Data D\", \"idx\": 10, \"val\": 65}, {\"col\": \"Data D\", \"idx\": 11, \"val\": 8}, {\"col\": \"Data D\", \"idx\": 12, \"val\": 12}, {\"col\": \"Data D\", \"idx\": 13, \"val\": 98}, {\"col\": \"Data D\", \"idx\": 14, \"val\": 75}, {\"col\": \"Data D\", \"idx\": 15, \"val\": 95}, {\"col\": \"Data D\", \"idx\": 16, \"val\": 100}, {\"col\": \"Data D\", \"idx\": 17, \"val\": 10}, {\"col\": \"Data D\", \"idx\": 18, \"val\": 89}, {\"col\": \"Data D\", \"idx\": 19, \"val\": 58}, {\"col\": \"Data D\", \"idx\": 20, \"val\": 43}]}], \"height\": 200, \"legends\": [{\"fill\": \"color\", \"offset\": 0, \"properties\": {}, \"title\": \"Data Categorires\"}], \"marks\": [{\"from\": {\"data\": \"table\", \"transform\": [{\"keys\": [\"data.col\"], \"type\": \"facet\"}]}, \"marks\": [{\"properties\": {\"enter\": {\"stroke\": {\"field\": \"data.col\", \"scale\": \"color\"}, \"strokeWidth\": {\"value\": 2}, \"x\": {\"field\": \"data.idx\", \"scale\": \"x\"}, \"y\": {\"field\": \"data.val\", \"scale\": \"y\"}}}, \"type\": \"line\"}], \"type\": \"group\"}], \"padding\": \"auto\", \"scales\": [{\"domain\": {\"data\": \"table\", \"field\": \"data.idx\"}, \"name\": \"x\", \"range\": \"width\", \"type\": \"linear\"}, {\"domain\": {\"data\": \"table\", \"field\": \"data.val\"}, \"name\": \"y\", \"nice\": true, \"range\": \"height\"}, {\"domain\": {\"data\": \"table\", \"field\": \"data.col\"}, \"name\": \"color\", \"range\": \"category20\", \"type\": \"ordinal\"}], \"width\": 400}, function(chart) {\n",
       "         chart({el: \"#visf9e9878d55564e21be01d3fabce4bb8d\"}).update();\n",
       "       });\n",
       "     };\n",
       "     _do_plot();\n",
       "   })();\n",
       "</script>\n",
       "<style>.vega canvas {width: 100%;}</style>\n",
       "        "
      ],
      "text/plain": [
       "<IPython.core.display.HTML object>"
      ]
     },
     "metadata": {},
     "output_type": "display_data"
    }
   ],
   "source": [
    "import random\n",
    "\n",
    "# let's generate some random data for the example\n",
    "# we'll generate four sets of integers list of size 21\n",
    "# each set will have random numbers from 1 to 100\n",
    "dataLabels = ['Data A', 'Data B', 'Data C', 'Data D']\n",
    "index = range(0, 21)\n",
    "dataset = {'index': index}\n",
    "for label in dataLabels:\n",
    "    dataset[label] = [random.randint(1, 100) for val in index]\n",
    "\n",
    "# now we'll use Vincent's Line object to plot a line graph \n",
    "# for the four dataset\n",
    "line = vincent.Line(dataset, iter_idx='index')\n",
    "\n",
    "# set the size of the graph\n",
    "line.width = 400\n",
    "line.height = 200\n",
    "\n",
    "# label axes\n",
    "line.axis_titles(x='Index', y='Value')\n",
    "\n",
    "# add legend\n",
    "line.legend(title='Data Categorires')\n",
    "\n",
    "# let's see how the line graph looks\n",
    "line.display()\n"
   ]
  },
  {
   "cell_type": "markdown",
   "metadata": {},
   "source": [
    "# Line Graph\n",
    "\n",
    "Line graphs can be plotted by simply using passing a list of data to vincent.Line(data) object. But, you can also pass in a dictionary that can have multiple data list in it. The graph shown above has four data list in the dictionary that's passed as parameter to the vincent.Line(data, iter_idx) object. 'Data' is the dictionary, and 'iter_idx' is the iterative index of the dictionary. It tells Vincent iterate from the first index dataset, i.e. Data A, to last index dataset, i.e. Data D. \n",
    "\n",
    "Different colors of the lines happens by default. And, like bar graph, you can assign a variable to your graph, and you can set the window size of the graph by setting its width, and height.\n",
    "\n",
    "You can display the graph in notebook by using display() or just by simply having the graph variable. In fact, change the line.display() statement with just line, you should see the same graph.\n",
    "\n",
    "### Label Axes\n",
    "Labeling the axes is simple. Just pass in label name for x and y in axis_title(x, y) as shown above.\n",
    "\n",
    "### Legend\n",
    "Adding a legend is simple. Use the legend(title) function with the graph variable, and set the title to whatever you want to call your legend. Different colors of the legends happens by default. "
   ]
  },
  {
   "cell_type": "code",
   "execution_count": 79,
   "metadata": {
    "collapsed": false
   },
   "outputs": [
    {
     "data": {
      "text/html": [
       "<div id=\"vis83804ea1178a44a38e032f3986d5121d\"></div>\n",
       "<script>\n",
       "   ( function() {\n",
       "     var _do_plot = function() {\n",
       "       if (typeof vg === 'undefined') {\n",
       "         window.addEventListener('vincent_libs_loaded', _do_plot)\n",
       "         return;\n",
       "       }\n",
       "       vg.parse.spec({\"axes\": [{\"scale\": \"x\", \"title\": \"Index\", \"type\": \"x\"}, {\"scale\": \"y\", \"title\": \"Value\", \"type\": \"y\"}], \"data\": [{\"name\": \"table\", \"values\": [{\"col\": \"Data 1\", \"idx\": 1, \"val\": 29}, {\"col\": \"Data 1\", \"idx\": 2, \"val\": 22}, {\"col\": \"Data 1\", \"idx\": 3, \"val\": 67}, {\"col\": \"Data 1\", \"idx\": 4, \"val\": 97}, {\"col\": \"Data 1\", \"idx\": 5, \"val\": 82}, {\"col\": \"Data 1\", \"idx\": 6, \"val\": 74}, {\"col\": \"Data 1\", \"idx\": 7, \"val\": 82}, {\"col\": \"Data 1\", \"idx\": 8, \"val\": 11}, {\"col\": \"Data 1\", \"idx\": 9, \"val\": 74}, {\"col\": \"Data 1\", \"idx\": 10, \"val\": 69}, {\"col\": \"Data 1\", \"idx\": 11, \"val\": 89}, {\"col\": \"Data 1\", \"idx\": 12, \"val\": 28}, {\"col\": \"Data 1\", \"idx\": 13, \"val\": 86}, {\"col\": \"Data 1\", \"idx\": 14, \"val\": 59}, {\"col\": \"Data 1\", \"idx\": 15, \"val\": 20}, {\"col\": \"Data 1\", \"idx\": 16, \"val\": 36}, {\"col\": \"Data 1\", \"idx\": 17, \"val\": 47}, {\"col\": \"Data 1\", \"idx\": 18, \"val\": 32}, {\"col\": \"Data 1\", \"idx\": 19, \"val\": 56}, {\"col\": \"Data 1\", \"idx\": 20, \"val\": 66}, {\"col\": \"Data 2\", \"idx\": 1, \"val\": 98}, {\"col\": \"Data 2\", \"idx\": 2, \"val\": 42}, {\"col\": \"Data 2\", \"idx\": 3, \"val\": 68}, {\"col\": \"Data 2\", \"idx\": 4, \"val\": 91}, {\"col\": \"Data 2\", \"idx\": 5, \"val\": 99}, {\"col\": \"Data 2\", \"idx\": 6, \"val\": 21}, {\"col\": \"Data 2\", \"idx\": 7, \"val\": 14}, {\"col\": \"Data 2\", \"idx\": 8, \"val\": 86}, {\"col\": \"Data 2\", \"idx\": 9, \"val\": 53}, {\"col\": \"Data 2\", \"idx\": 10, \"val\": 58}, {\"col\": \"Data 2\", \"idx\": 11, \"val\": 85}, {\"col\": \"Data 2\", \"idx\": 12, \"val\": 37}, {\"col\": \"Data 2\", \"idx\": 13, \"val\": 66}, {\"col\": \"Data 2\", \"idx\": 14, \"val\": 52}, {\"col\": \"Data 2\", \"idx\": 15, \"val\": 68}, {\"col\": \"Data 2\", \"idx\": 16, \"val\": 67}, {\"col\": \"Data 2\", \"idx\": 17, \"val\": 38}, {\"col\": \"Data 2\", \"idx\": 18, \"val\": 55}, {\"col\": \"Data 2\", \"idx\": 19, \"val\": 25}, {\"col\": \"Data 2\", \"idx\": 20, \"val\": 47}, {\"col\": \"Data 3\", \"idx\": 1, \"val\": 60}, {\"col\": \"Data 3\", \"idx\": 2, \"val\": 43}, {\"col\": \"Data 3\", \"idx\": 3, \"val\": 74}, {\"col\": \"Data 3\", \"idx\": 4, \"val\": 84}, {\"col\": \"Data 3\", \"idx\": 5, \"val\": 19}, {\"col\": \"Data 3\", \"idx\": 6, \"val\": 94}, {\"col\": \"Data 3\", \"idx\": 7, \"val\": 71}, {\"col\": \"Data 3\", \"idx\": 8, \"val\": 92}, {\"col\": \"Data 3\", \"idx\": 9, \"val\": 61}, {\"col\": \"Data 3\", \"idx\": 10, \"val\": 54}, {\"col\": \"Data 3\", \"idx\": 11, \"val\": 55}, {\"col\": \"Data 3\", \"idx\": 12, \"val\": 37}, {\"col\": \"Data 3\", \"idx\": 13, \"val\": 25}, {\"col\": \"Data 3\", \"idx\": 14, \"val\": 98}, {\"col\": \"Data 3\", \"idx\": 15, \"val\": 63}, {\"col\": \"Data 3\", \"idx\": 16, \"val\": 47}, {\"col\": \"Data 3\", \"idx\": 17, \"val\": 52}, {\"col\": \"Data 3\", \"idx\": 18, \"val\": 30}, {\"col\": \"Data 3\", \"idx\": 19, \"val\": 66}, {\"col\": \"Data 3\", \"idx\": 20, \"val\": 85}, {\"col\": \"Data 4\", \"idx\": 1, \"val\": 73}, {\"col\": \"Data 4\", \"idx\": 2, \"val\": 90}, {\"col\": \"Data 4\", \"idx\": 3, \"val\": 52}, {\"col\": \"Data 4\", \"idx\": 4, \"val\": 52}, {\"col\": \"Data 4\", \"idx\": 5, \"val\": 65}, {\"col\": \"Data 4\", \"idx\": 6, \"val\": 73}, {\"col\": \"Data 4\", \"idx\": 7, \"val\": 52}, {\"col\": \"Data 4\", \"idx\": 8, \"val\": 80}, {\"col\": \"Data 4\", \"idx\": 9, \"val\": 83}, {\"col\": \"Data 4\", \"idx\": 10, \"val\": 57}, {\"col\": \"Data 4\", \"idx\": 11, \"val\": 87}, {\"col\": \"Data 4\", \"idx\": 12, \"val\": 12}, {\"col\": \"Data 4\", \"idx\": 13, \"val\": 62}, {\"col\": \"Data 4\", \"idx\": 14, \"val\": 36}, {\"col\": \"Data 4\", \"idx\": 15, \"val\": 12}, {\"col\": \"Data 4\", \"idx\": 16, \"val\": 30}, {\"col\": \"Data 4\", \"idx\": 17, \"val\": 97}, {\"col\": \"Data 4\", \"idx\": 18, \"val\": 99}, {\"col\": \"Data 4\", \"idx\": 19, \"val\": 50}, {\"col\": \"Data 4\", \"idx\": 20, \"val\": 20}, {\"col\": \"Data 5\", \"idx\": 1, \"val\": 57}, {\"col\": \"Data 5\", \"idx\": 2, \"val\": 24}, {\"col\": \"Data 5\", \"idx\": 3, \"val\": 37}, {\"col\": \"Data 5\", \"idx\": 4, \"val\": 70}, {\"col\": \"Data 5\", \"idx\": 5, \"val\": 67}, {\"col\": \"Data 5\", \"idx\": 6, \"val\": 51}, {\"col\": \"Data 5\", \"idx\": 7, \"val\": 14}, {\"col\": \"Data 5\", \"idx\": 8, \"val\": 59}, {\"col\": \"Data 5\", \"idx\": 9, \"val\": 84}, {\"col\": \"Data 5\", \"idx\": 10, \"val\": 71}, {\"col\": \"Data 5\", \"idx\": 11, \"val\": 68}, {\"col\": \"Data 5\", \"idx\": 12, \"val\": 51}, {\"col\": \"Data 5\", \"idx\": 13, \"val\": 98}, {\"col\": \"Data 5\", \"idx\": 14, \"val\": 80}, {\"col\": \"Data 5\", \"idx\": 15, \"val\": 49}, {\"col\": \"Data 5\", \"idx\": 16, \"val\": 25}, {\"col\": \"Data 5\", \"idx\": 17, \"val\": 13}, {\"col\": \"Data 5\", \"idx\": 18, \"val\": 63}, {\"col\": \"Data 5\", \"idx\": 19, \"val\": 47}, {\"col\": \"Data 5\", \"idx\": 20, \"val\": 82}, {\"col\": \"Data 6\", \"idx\": 1, \"val\": 42}, {\"col\": \"Data 6\", \"idx\": 2, \"val\": 72}, {\"col\": \"Data 6\", \"idx\": 3, \"val\": 10}, {\"col\": \"Data 6\", \"idx\": 4, \"val\": 28}, {\"col\": \"Data 6\", \"idx\": 5, \"val\": 36}, {\"col\": \"Data 6\", \"idx\": 6, \"val\": 51}, {\"col\": \"Data 6\", \"idx\": 7, \"val\": 29}, {\"col\": \"Data 6\", \"idx\": 8, \"val\": 76}, {\"col\": \"Data 6\", \"idx\": 9, \"val\": 29}, {\"col\": \"Data 6\", \"idx\": 10, \"val\": 30}, {\"col\": \"Data 6\", \"idx\": 11, \"val\": 87}, {\"col\": \"Data 6\", \"idx\": 12, \"val\": 39}, {\"col\": \"Data 6\", \"idx\": 13, \"val\": 69}, {\"col\": \"Data 6\", \"idx\": 14, \"val\": 15}, {\"col\": \"Data 6\", \"idx\": 15, \"val\": 68}, {\"col\": \"Data 6\", \"idx\": 16, \"val\": 99}, {\"col\": \"Data 6\", \"idx\": 17, \"val\": 37}, {\"col\": \"Data 6\", \"idx\": 18, \"val\": 27}, {\"col\": \"Data 6\", \"idx\": 19, \"val\": 59}, {\"col\": \"Data 6\", \"idx\": 20, \"val\": 54}, {\"col\": \"Data 7\", \"idx\": 1, \"val\": 47}, {\"col\": \"Data 7\", \"idx\": 2, \"val\": 36}, {\"col\": \"Data 7\", \"idx\": 3, \"val\": 27}, {\"col\": \"Data 7\", \"idx\": 4, \"val\": 11}, {\"col\": \"Data 7\", \"idx\": 5, \"val\": 40}, {\"col\": \"Data 7\", \"idx\": 6, \"val\": 13}, {\"col\": \"Data 7\", \"idx\": 7, \"val\": 37}, {\"col\": \"Data 7\", \"idx\": 8, \"val\": 29}, {\"col\": \"Data 7\", \"idx\": 9, \"val\": 37}, {\"col\": \"Data 7\", \"idx\": 10, \"val\": 36}, {\"col\": \"Data 7\", \"idx\": 11, \"val\": 72}, {\"col\": \"Data 7\", \"idx\": 12, \"val\": 70}, {\"col\": \"Data 7\", \"idx\": 13, \"val\": 23}, {\"col\": \"Data 7\", \"idx\": 14, \"val\": 66}, {\"col\": \"Data 7\", \"idx\": 15, \"val\": 46}, {\"col\": \"Data 7\", \"idx\": 16, \"val\": 26}, {\"col\": \"Data 7\", \"idx\": 17, \"val\": 71}, {\"col\": \"Data 7\", \"idx\": 18, \"val\": 95}, {\"col\": \"Data 7\", \"idx\": 19, \"val\": 41}, {\"col\": \"Data 7\", \"idx\": 20, \"val\": 75}, {\"col\": \"Data 8\", \"idx\": 1, \"val\": 99}, {\"col\": \"Data 8\", \"idx\": 2, \"val\": 96}, {\"col\": \"Data 8\", \"idx\": 3, \"val\": 93}, {\"col\": \"Data 8\", \"idx\": 4, \"val\": 100}, {\"col\": \"Data 8\", \"idx\": 5, \"val\": 64}, {\"col\": \"Data 8\", \"idx\": 6, \"val\": 68}, {\"col\": \"Data 8\", \"idx\": 7, \"val\": 22}, {\"col\": \"Data 8\", \"idx\": 8, \"val\": 97}, {\"col\": \"Data 8\", \"idx\": 9, \"val\": 86}, {\"col\": \"Data 8\", \"idx\": 10, \"val\": 97}, {\"col\": \"Data 8\", \"idx\": 11, \"val\": 58}, {\"col\": \"Data 8\", \"idx\": 12, \"val\": 60}, {\"col\": \"Data 8\", \"idx\": 13, \"val\": 60}, {\"col\": \"Data 8\", \"idx\": 14, \"val\": 13}, {\"col\": \"Data 8\", \"idx\": 15, \"val\": 33}, {\"col\": \"Data 8\", \"idx\": 16, \"val\": 80}, {\"col\": \"Data 8\", \"idx\": 17, \"val\": 67}, {\"col\": \"Data 8\", \"idx\": 18, \"val\": 69}, {\"col\": \"Data 8\", \"idx\": 19, \"val\": 96}, {\"col\": \"Data 8\", \"idx\": 20, \"val\": 37}, {\"col\": \"Data 9\", \"idx\": 1, \"val\": 82}, {\"col\": \"Data 9\", \"idx\": 2, \"val\": 59}, {\"col\": \"Data 9\", \"idx\": 3, \"val\": 28}, {\"col\": \"Data 9\", \"idx\": 4, \"val\": 90}, {\"col\": \"Data 9\", \"idx\": 5, \"val\": 22}, {\"col\": \"Data 9\", \"idx\": 6, \"val\": 69}, {\"col\": \"Data 9\", \"idx\": 7, \"val\": 40}, {\"col\": \"Data 9\", \"idx\": 8, \"val\": 32}, {\"col\": \"Data 9\", \"idx\": 9, \"val\": 75}, {\"col\": \"Data 9\", \"idx\": 10, \"val\": 52}, {\"col\": \"Data 9\", \"idx\": 11, \"val\": 94}, {\"col\": \"Data 9\", \"idx\": 12, \"val\": 14}, {\"col\": \"Data 9\", \"idx\": 13, \"val\": 68}, {\"col\": \"Data 9\", \"idx\": 14, \"val\": 26}, {\"col\": \"Data 9\", \"idx\": 15, \"val\": 10}, {\"col\": \"Data 9\", \"idx\": 16, \"val\": 83}, {\"col\": \"Data 9\", \"idx\": 17, \"val\": 26}, {\"col\": \"Data 9\", \"idx\": 18, \"val\": 80}, {\"col\": \"Data 9\", \"idx\": 19, \"val\": 62}, {\"col\": \"Data 9\", \"idx\": 20, \"val\": 48}]}], \"height\": 200, \"legends\": [{\"fill\": \"color\", \"offset\": 0, \"properties\": {}, \"title\": \"Data Categorires\"}], \"marks\": [{\"from\": {\"data\": \"table\", \"transform\": [{\"keys\": [\"data.col\"], \"type\": \"facet\"}]}, \"marks\": [{\"properties\": {\"enter\": {\"fill\": {\"field\": \"data.col\", \"scale\": \"color\"}, \"size\": {\"value\": 100}, \"x\": {\"field\": \"data.idx\", \"scale\": \"x\"}, \"y\": {\"field\": \"data.val\", \"scale\": \"y\"}}}, \"type\": \"symbol\"}], \"type\": \"group\"}], \"padding\": \"auto\", \"scales\": [{\"domain\": {\"data\": \"table\", \"field\": \"data.idx\"}, \"name\": \"x\", \"range\": \"width\", \"type\": \"linear\"}, {\"domain\": {\"data\": \"table\", \"field\": \"data.val\"}, \"name\": \"y\", \"nice\": true, \"range\": \"height\"}, {\"domain\": {\"data\": \"table\", \"field\": \"data.col\"}, \"name\": \"color\", \"range\": \"category20\", \"type\": \"ordinal\"}], \"width\": 400}, function(chart) {\n",
       "         chart({el: \"#vis83804ea1178a44a38e032f3986d5121d\"}).update();\n",
       "       });\n",
       "     };\n",
       "     _do_plot();\n",
       "   })();\n",
       "</script>\n",
       "<style>.vega canvas {width: 100%;}</style>\n",
       "        "
      ],
      "text/plain": [
       "<IPython.core.display.HTML object>"
      ]
     },
     "metadata": {},
     "output_type": "display_data"
    }
   ],
   "source": [
    "import random\n",
    "\n",
    "# let's generate some random data for the example\n",
    "# we'll generate 9 sets of integers list of size 20\n",
    "# each set will have random numbers from 10 to 100\n",
    "dataLabels2 = ['Data ' + str(x) for x in range(1,10)]\n",
    "index2 = range(1, 21)\n",
    "dataset2 = {'index': index2}\n",
    "for label in dataLabels2:\n",
    "    dataset2[label] = [random.randint(10, 100) for val in index2]\n",
    "\n",
    "# now we'll use Vincent's Scatter object to plot a scatter plot \n",
    "# for the four dataset\n",
    "scatter = vincent.Scatter(dataset2, iter_idx='index')\n",
    "\n",
    "# set the size of the graph\n",
    "scatter.width = 400\n",
    "scatter.height = 200\n",
    "\n",
    "# label axes\n",
    "scatter.axis_titles(x='Index', y='Value')\n",
    "\n",
    "# add legend\n",
    "scatter.legend(title='Data Categorires')\n",
    "\n",
    "# let's see how the line graph looks\n",
    "scatter.display()\n",
    "\n"
   ]
  },
  {
   "cell_type": "markdown",
   "metadata": {},
   "source": [
    "# Scatter Plot\n",
    "\n",
    "Scatter plots can be plotted by simply passing a list of data to vincent.Line(data) object. But, you can also pass in a dictionary that can have multiple data list in it. The graph shown above has nine data list in the dictionary that's passed as parameter to the vincent.Scatter(data, iter_idx) object. 'Data' is the dictionary, and 'iter_idx' is the iterative index of the dictionary. It tells Vincent to iterate from first index dataset, i.e. Data 1, to last index dataset, i.e. Data 9. \n",
    "\n",
    "You can display the graph in notebook by using display() or just by simply having the graph variable. In fact, change the scatter.display() statement with just scatter, you should see the same graph.\n",
    "\n",
    "### Label Axes\n",
    "Labeling the axes is simple. Just pass in label name for x and y in axis_title(x, y) as shown above.\n",
    "\n",
    "### Legend\n",
    "Adding a legend is simple. Use the legend(title) function with the graph variable, and set the title to whatever you want to call your legend. Different colors of the legends happens by default. "
   ]
  },
  {
   "cell_type": "markdown",
   "metadata": {},
   "source": [
    "==========================================================================\n",
    "\n",
    "# More complex graph with real world data\n",
    "\n",
    "Hopefully, at this point, you are familiar with plotting differnt graphs using Vincent. Pretty easy, isn't it. \n",
    "\n",
    "Now, we'll plot something more complex, a real world dataset. And, we'll walk through each step in the process.\n",
    "\n"
   ]
  },
  {
   "cell_type": "code",
   "execution_count": null,
   "metadata": {
    "collapsed": true
   },
   "outputs": [],
   "source": []
  }
 ],
 "metadata": {
  "kernelspec": {
   "display_name": "Python 3",
   "language": "python",
   "name": "python3"
  },
  "language_info": {
   "codemirror_mode": {
    "name": "ipython",
    "version": 3
   },
   "file_extension": ".py",
   "mimetype": "text/x-python",
   "name": "python",
   "nbconvert_exporter": "python",
   "pygments_lexer": "ipython3",
   "version": "3.5.1"
  }
 },
 "nbformat": 4,
 "nbformat_minor": 0
}
