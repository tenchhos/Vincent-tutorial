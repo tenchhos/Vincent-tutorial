{
 "cells": [
  {
   "cell_type": "markdown",
   "metadata": {
    "slideshow": {
     "slide_type": "-"
    }
   },
   "source": [
    "# Vincent - The data capabilities of Python. The visualization capabilities of JavaScript."
   ]
  },
  {
   "cell_type": "markdown",
   "metadata": {},
   "source": [
    "This is a tutorial about how to use Vincent, a data visualisation tool in python.\n",
    "\n",
    "Author: Tenzin Chhosphel, CSC 599.69, CCNY"
   ]
  },
  {
   "cell_type": "markdown",
   "metadata": {},
   "source": [
    "# Introduction\n",
    "\n",
    "Vega is a visualization grammar, a declarative format for creating and saving interactive visualization designs. With Vega you can describe data visualizations in a JSON format, and generate interactive views using either HTML5 Canvas or SVG. \n",
    "\n",
    "Built on top of D3, Vega makes building visualization easier. Vega is built by Trifacta, a company that builds data wrangling and exploratory analysis platform.\n",
    "\n",
    "Vincent makes it easy to build Vega with python. Vincent allows you to build Vega specifications in a Pythonic way, and performs type-checking to help ensure that your specifications are correct. It also has a number of convenience chart-building methods that quickly turn Python data structures into Vega visualization grammar, enabling graphical exploration. It allows for quick iteration of visualization designs via getters and setters on grammar elements, and outputs the final visualization to JSON. Perhaps most importantly, Vincent has Pandas-Fu, and is built specifically to allow for quick plotting of DataFrames and Series. \n",
    "\n",
    "The core concept of Vincent is that it possess the data capabilities of Python, and visualization capabilites of JavaScript. \n",
    "\n",
    "More information can be found on http://vincent.readthedocs.io/\n"
   ]
  },
  {
   "cell_type": "markdown",
   "metadata": {},
   "source": [
    "# Installation\n",
    "\n",
    "You can install Vincent by doing the following command using pip:\n",
    "\n",
    "*$pip install vincent*\n",
    "\n",
    "Because Vincent depends on Pandas, before you install Vincent, make sure to have installed Pandas. If not installed already, you can install Pandas doing the following command using pip:\n",
    "\n",
    "*$pip install pandas*\n",
    "\n",
    "Because Pandas depends on NumPy, before you install Pandas, make sure to have installed NumPy. If not installed already, you can install NumPy doing the following command using pip:\n",
    "\n",
    "*$pip install numpy*\n",
    "\n",
    "\n",
    "\n",
    "Having trouble installation? \n",
    "\n",
    "A full guide for installation can be found on https://github.com/wrobstory/vincent\n",
    "\n"
   ]
  },
  {
   "cell_type": "code",
   "execution_count": 1,
   "metadata": {
    "collapsed": false
   },
   "outputs": [
    {
     "data": {
      "text/html": [
       "\n",
       "           <script>\n",
       "               \n",
       "                function vct_load_lib(url, callback){\n",
       "                      if(typeof d3 !== 'undefined' &&\n",
       "                         url === 'http://d3js.org/d3.v3.min.js'){\n",
       "                        callback()\n",
       "                      }\n",
       "                      var s = document.createElement('script');\n",
       "                      s.src = url;\n",
       "                      s.async = true;\n",
       "                      s.onreadystatechange = s.onload = callback;\n",
       "                      s.onerror = function(){\n",
       "                        console.warn(\"failed to load library \" + url);\n",
       "                        };\n",
       "                      document.getElementsByTagName(\"head\")[0].appendChild(s);\n",
       "                };\n",
       "                var vincent_event = new CustomEvent(\n",
       "                  \"vincent_libs_loaded\",\n",
       "                  {bubbles: true, cancelable: true}\n",
       "                );\n",
       "                \n",
       "               function load_all_libs(){\n",
       "                  console.log('Loading Vincent libs...')\n",
       "                  vct_load_lib('http://d3js.org/d3.v3.min.js', function(){\n",
       "                  vct_load_lib('http://d3js.org/d3.geo.projection.v0.min.js', function(){\n",
       "                  vct_load_lib('http://wrobstory.github.io/d3-cloud/d3.layout.cloud.js', function(){\n",
       "                  vct_load_lib('http://wrobstory.github.io/vega/vega.v1.3.3.js', function(){\n",
       "                  window.dispatchEvent(vincent_event);\n",
       "                  });\n",
       "                  });\n",
       "                  });\n",
       "                  });\n",
       "               };\n",
       "               if(typeof define === \"function\" && define.amd){\n",
       "                    if (window['d3'] === undefined ||\n",
       "                        window['topojson'] === undefined){\n",
       "                        require.config(\n",
       "                            {paths: {\n",
       "                              d3: 'http://d3js.org/d3.v3.min',\n",
       "                              topojson: 'http://d3js.org/topojson.v1.min'\n",
       "                              }\n",
       "                            }\n",
       "                          );\n",
       "                        require([\"d3\"], function(d3){\n",
       "                            console.log('Loading Vincent from require.js...')\n",
       "                            window.d3 = d3;\n",
       "                            require([\"topojson\"], function(topojson){\n",
       "                                window.topojson = topojson;\n",
       "                                load_all_libs();\n",
       "                            });\n",
       "                        });\n",
       "                    } else {\n",
       "                        load_all_libs();\n",
       "                    };\n",
       "               }else{\n",
       "                    console.log('Require.js not found, loading manually...')\n",
       "                    load_all_libs();\n",
       "               };\n",
       "\n",
       "           </script>"
      ],
      "text/plain": [
       "<IPython.core.display.HTML object>"
      ]
     },
     "metadata": {},
     "output_type": "display_data"
    }
   ],
   "source": [
    "# Before you use Vincent, you need to import Vincent\n",
    "import vincent\n",
    "\n",
    "# Then before anything, you need to load all necessary JavaScript libraries\n",
    "vincent.initialize_notebook()"
   ]
  },
  {
   "cell_type": "markdown",
   "metadata": {},
   "source": [
    "# Get Started\n",
    "\n",
    "To get started using Vincent, first import Vincent with the above command. Once imported, you need to load all neccessary JavaScript libraries using initiliaze_notebook(). \n",
    "\n",
    "Once the libraries are loaded, you are ready to go!\n",
    "\n",
    "You can easily plot all different kinds of graphs using Vincent. But, for the sake of keeping this tutorial easy, we'll plot some of the basic graphs. \n",
    "\n",
    "Following is what we'll plot:\n",
    "\n",
    "    * Bar Graph\n",
    "    * Area Graph\n",
    "    * Line Graph\n",
    "    * Scatter Plots\n",
    "   \n",
    "Once we get familiar with the basic graphs, we'll plot a more complex real world data. But, you must know the basics first in order to understand the more complex one. "
   ]
  },
  {
   "cell_type": "code",
   "execution_count": 2,
   "metadata": {
    "collapsed": false
   },
   "outputs": [
    {
     "data": {
      "text/html": [
       "<div id=\"vis666f04551e7c463f8147159852bf556e\"></div>\n",
       "<script>\n",
       "   ( function() {\n",
       "     var _do_plot = function() {\n",
       "       if (typeof vg === 'undefined') {\n",
       "         window.addEventListener('vincent_libs_loaded', _do_plot)\n",
       "         return;\n",
       "       }\n",
       "       vg.parse.spec({\"axes\": [{\"scale\": \"x\", \"title\": \"Index\", \"type\": \"x\"}, {\"scale\": \"y\", \"title\": \"Value\", \"type\": \"y\"}], \"data\": [{\"name\": \"table\", \"values\": [{\"col\": \"data\", \"idx\": 0, \"val\": 0}, {\"col\": \"data\", \"idx\": 1, \"val\": 10}, {\"col\": \"data\", \"idx\": 2, \"val\": 20}, {\"col\": \"data\", \"idx\": 3, \"val\": 30}, {\"col\": \"data\", \"idx\": 4, \"val\": 40}, {\"col\": \"data\", \"idx\": 5, \"val\": 50}, {\"col\": \"data\", \"idx\": 6, \"val\": 40}, {\"col\": \"data\", \"idx\": 7, \"val\": 30}, {\"col\": \"data\", \"idx\": 8, \"val\": 20}, {\"col\": \"data\", \"idx\": 9, \"val\": 10}, {\"col\": \"data\", \"idx\": 10, \"val\": 0}]}, {\"name\": \"stats\", \"source\": \"table\", \"transform\": [{\"keys\": [\"data.idx\"], \"type\": \"facet\"}, {\"type\": \"stats\", \"value\": \"data.val\"}]}], \"height\": 200, \"legends\": [], \"marks\": [{\"from\": {\"data\": \"table\", \"transform\": [{\"keys\": [\"data.col\"], \"type\": \"facet\"}, {\"height\": \"data.val\", \"point\": \"data.idx\", \"type\": \"stack\"}]}, \"marks\": [{\"properties\": {\"enter\": {\"fill\": {\"field\": \"data.col\", \"scale\": \"color\"}, \"width\": {\"band\": true, \"offset\": -1, \"scale\": \"x\"}, \"x\": {\"field\": \"data.idx\", \"scale\": \"x\"}, \"y\": {\"field\": \"y\", \"scale\": \"y\"}, \"y2\": {\"field\": \"y2\", \"scale\": \"y\"}}}, \"type\": \"rect\"}], \"type\": \"group\"}], \"padding\": \"auto\", \"scales\": [{\"domain\": {\"data\": \"table\", \"field\": \"data.idx\"}, \"name\": \"x\", \"range\": \"width\", \"type\": \"ordinal\", \"zero\": false}, {\"domain\": {\"data\": \"stats\", \"field\": \"sum\"}, \"name\": \"y\", \"nice\": true, \"range\": \"height\"}, {\"domain\": {\"data\": \"table\", \"field\": \"data.col\"}, \"name\": \"color\", \"range\": \"category20\", \"type\": \"ordinal\"}], \"width\": 400}, function(chart) {\n",
       "         chart({el: \"#vis666f04551e7c463f8147159852bf556e\"}).update();\n",
       "       });\n",
       "     };\n",
       "     _do_plot();\n",
       "   })();\n",
       "</script>\n",
       "<style>.vega canvas {width: 100%;}</style>\n",
       "        "
      ],
      "text/plain": [
       "<IPython.core.display.HTML object>"
      ]
     },
     "metadata": {},
     "output_type": "display_data"
    }
   ],
   "source": [
    "# let's make a list of some integers\n",
    "list_data = [0, 10, 20, 30, 40, 50, 40, 30, 20, 10, 0]\n",
    "\n",
    "# now we'll use Vincent's Bar object to plot a bar graph\n",
    "bar = vincent.Bar(list_data)\n",
    "\n",
    "# set the size of the graph\n",
    "bar.width = 400\n",
    "bar.height = 200\n",
    "\n",
    "# label axes\n",
    "bar.axis_titles(x='Index', y='Value')\n",
    "\n",
    "# let's see how the bar graph looks\n",
    "bar.display()"
   ]
  },
  {
   "cell_type": "markdown",
   "metadata": {
    "collapsed": true
   },
   "source": [
    "# Bar Graph\n",
    "\n",
    "Bar graphs can be plotted by simply using passing a list fo data to vincent.Bar(data) object. You can assign a variable to your graph, and you can set the window size of the graph by setting its width, and height. From now own I will be refering to this variable as 'graph variable.'\n",
    "\n",
    "You can display the graph in notebook by using display() or just by simply  having the graph variable. In fact, change the bar.display() statement with just bar, you should see the same graph.\n",
    "\n",
    "### Label Axes\n",
    "\n",
    "Labeling the axes is simple. Just pass in label name for x and y in axis_title(x, y) as shown above. "
   ]
  },
  {
   "cell_type": "code",
   "execution_count": 3,
   "metadata": {
    "collapsed": false
   },
   "outputs": [
    {
     "data": {
      "text/html": [
       "<div id=\"vis62d3e911e5bd46f7a2609d4a3143b294\"></div>\n",
       "<script>\n",
       "   ( function() {\n",
       "     var _do_plot = function() {\n",
       "       if (typeof vg === 'undefined') {\n",
       "         window.addEventListener('vincent_libs_loaded', _do_plot)\n",
       "         return;\n",
       "       }\n",
       "       vg.parse.spec({\"axes\": [{\"scale\": \"x\", \"title\": \"Index\", \"type\": \"x\"}, {\"scale\": \"y\", \"title\": \"Value\", \"type\": \"y\"}], \"data\": [{\"name\": \"table\", \"values\": [{\"col\": \"data\", \"idx\": 0, \"val\": 40}, {\"col\": \"data\", \"idx\": 1, \"val\": 50}, {\"col\": \"data\", \"idx\": 2, \"val\": 25}, {\"col\": \"data\", \"idx\": 3, \"val\": 30}, {\"col\": \"data\", \"idx\": 4, \"val\": 60}, {\"col\": \"data\", \"idx\": 5, \"val\": 50}, {\"col\": \"data\", \"idx\": 6, \"val\": 20}, {\"col\": \"data\", \"idx\": 7, \"val\": 10}, {\"col\": \"data\", \"idx\": 8, \"val\": 45}, {\"col\": \"data\", \"idx\": 9, \"val\": 70}]}, {\"name\": \"stats\", \"source\": \"table\", \"transform\": [{\"keys\": [\"data.idx\"], \"type\": \"facet\"}, {\"type\": \"stats\", \"value\": \"data.val\"}]}], \"height\": 200, \"legends\": [], \"marks\": [{\"from\": {\"data\": \"table\", \"transform\": [{\"keys\": [\"data.col\"], \"type\": \"facet\"}, {\"height\": \"data.val\", \"point\": \"data.idx\", \"type\": \"stack\"}]}, \"marks\": [{\"properties\": {\"enter\": {\"fill\": {\"field\": \"data.col\", \"scale\": \"color\"}, \"interpolate\": {\"value\": \"monotone\"}, \"x\": {\"field\": \"data.idx\", \"scale\": \"x\"}, \"y\": {\"field\": \"y\", \"scale\": \"y\"}, \"y2\": {\"field\": \"y2\", \"scale\": \"y\"}}}, \"type\": \"area\"}], \"type\": \"group\"}], \"padding\": \"auto\", \"scales\": [{\"domain\": {\"data\": \"table\", \"field\": \"data.idx\"}, \"name\": \"x\", \"range\": \"width\", \"type\": \"linear\", \"zero\": false}, {\"domain\": {\"data\": \"stats\", \"field\": \"sum\"}, \"name\": \"y\", \"nice\": true, \"range\": \"height\"}, {\"domain\": {\"data\": \"table\", \"field\": \"data.col\"}, \"name\": \"color\", \"range\": \"category20\", \"type\": \"ordinal\"}], \"width\": 400}, function(chart) {\n",
       "         chart({el: \"#vis62d3e911e5bd46f7a2609d4a3143b294\"}).update();\n",
       "       });\n",
       "     };\n",
       "     _do_plot();\n",
       "   })();\n",
       "</script>\n",
       "<style>.vega canvas {width: 100%;}</style>\n",
       "        "
      ],
      "text/plain": [
       "<IPython.core.display.HTML object>"
      ]
     },
     "metadata": {},
     "output_type": "display_data"
    }
   ],
   "source": [
    "# let's make a list of some integers\n",
    "list_data = [40, 50, 25, 30, 60, 50, 20, 10, 45, 70]\n",
    "\n",
    "# now we'll use Vincent's Area object to plot a area graph\n",
    "area = vincent.Area(list_data)\n",
    "\n",
    "# set the size of the graph\n",
    "area.width = 400\n",
    "area.height = 200\n",
    "\n",
    "# label axes\n",
    "area.axis_titles(x='Index', y='Value')\n",
    "\n",
    "# let's see how the bar graph looks\n",
    "area.display()"
   ]
  },
  {
   "cell_type": "markdown",
   "metadata": {},
   "source": [
    "# Area Graph\n",
    "\n",
    "Like bar graphs, area graphs can be plotted by simply using passing a list fo data to vincent.Area(data) object. The area formed under the line formed from the data will be shaded as shown above. And like bar graphs, you can assign a variable to your graph, and you can set the window size of the graph by setting its width, and height. \n",
    "\n",
    "You can display the graph in notebook by using display() or just by simply  having the graph variable. In fact, change the area.display() statement with just area, you should see the same graph.\n",
    "\n",
    "### Label Axes\n",
    "\n",
    "Labeling the axes is simple. Just pass in label name for x and y in axis_title(x, y) as shown above. "
   ]
  },
  {
   "cell_type": "code",
   "execution_count": 4,
   "metadata": {
    "collapsed": false
   },
   "outputs": [
    {
     "data": {
      "text/html": [
       "<div id=\"visb2ce226000da4b6eba68c0e128590bc8\"></div>\n",
       "<script>\n",
       "   ( function() {\n",
       "     var _do_plot = function() {\n",
       "       if (typeof vg === 'undefined') {\n",
       "         window.addEventListener('vincent_libs_loaded', _do_plot)\n",
       "         return;\n",
       "       }\n",
       "       vg.parse.spec({\"axes\": [{\"scale\": \"x\", \"title\": \"Index\", \"type\": \"x\"}, {\"scale\": \"y\", \"title\": \"Value\", \"type\": \"y\"}], \"data\": [{\"name\": \"table\", \"values\": [{\"col\": \"Data A\", \"idx\": 0, \"val\": 74}, {\"col\": \"Data A\", \"idx\": 1, \"val\": 16}, {\"col\": \"Data A\", \"idx\": 2, \"val\": 26}, {\"col\": \"Data A\", \"idx\": 3, \"val\": 44}, {\"col\": \"Data A\", \"idx\": 4, \"val\": 87}, {\"col\": \"Data A\", \"idx\": 5, \"val\": 59}, {\"col\": \"Data A\", \"idx\": 6, \"val\": 49}, {\"col\": \"Data A\", \"idx\": 7, \"val\": 78}, {\"col\": \"Data A\", \"idx\": 8, \"val\": 65}, {\"col\": \"Data A\", \"idx\": 9, \"val\": 21}, {\"col\": \"Data A\", \"idx\": 10, \"val\": 74}, {\"col\": \"Data A\", \"idx\": 11, \"val\": 42}, {\"col\": \"Data A\", \"idx\": 12, \"val\": 44}, {\"col\": \"Data A\", \"idx\": 13, \"val\": 30}, {\"col\": \"Data A\", \"idx\": 14, \"val\": 36}, {\"col\": \"Data A\", \"idx\": 15, \"val\": 11}, {\"col\": \"Data A\", \"idx\": 16, \"val\": 54}, {\"col\": \"Data A\", \"idx\": 17, \"val\": 35}, {\"col\": \"Data A\", \"idx\": 18, \"val\": 67}, {\"col\": \"Data A\", \"idx\": 19, \"val\": 21}, {\"col\": \"Data A\", \"idx\": 20, \"val\": 40}, {\"col\": \"Data B\", \"idx\": 0, \"val\": 33}, {\"col\": \"Data B\", \"idx\": 1, \"val\": 64}, {\"col\": \"Data B\", \"idx\": 2, \"val\": 61}, {\"col\": \"Data B\", \"idx\": 3, \"val\": 16}, {\"col\": \"Data B\", \"idx\": 4, \"val\": 22}, {\"col\": \"Data B\", \"idx\": 5, \"val\": 62}, {\"col\": \"Data B\", \"idx\": 6, \"val\": 76}, {\"col\": \"Data B\", \"idx\": 7, \"val\": 75}, {\"col\": \"Data B\", \"idx\": 8, \"val\": 57}, {\"col\": \"Data B\", \"idx\": 9, \"val\": 24}, {\"col\": \"Data B\", \"idx\": 10, \"val\": 55}, {\"col\": \"Data B\", \"idx\": 11, \"val\": 88}, {\"col\": \"Data B\", \"idx\": 12, \"val\": 72}, {\"col\": \"Data B\", \"idx\": 13, \"val\": 21}, {\"col\": \"Data B\", \"idx\": 14, \"val\": 16}, {\"col\": \"Data B\", \"idx\": 15, \"val\": 94}, {\"col\": \"Data B\", \"idx\": 16, \"val\": 61}, {\"col\": \"Data B\", \"idx\": 17, \"val\": 8}, {\"col\": \"Data B\", \"idx\": 18, \"val\": 62}, {\"col\": \"Data B\", \"idx\": 19, \"val\": 9}, {\"col\": \"Data B\", \"idx\": 20, \"val\": 38}, {\"col\": \"Data C\", \"idx\": 0, \"val\": 20}, {\"col\": \"Data C\", \"idx\": 1, \"val\": 18}, {\"col\": \"Data C\", \"idx\": 2, \"val\": 26}, {\"col\": \"Data C\", \"idx\": 3, \"val\": 40}, {\"col\": \"Data C\", \"idx\": 4, \"val\": 24}, {\"col\": \"Data C\", \"idx\": 5, \"val\": 78}, {\"col\": \"Data C\", \"idx\": 6, \"val\": 17}, {\"col\": \"Data C\", \"idx\": 7, \"val\": 80}, {\"col\": \"Data C\", \"idx\": 8, \"val\": 16}, {\"col\": \"Data C\", \"idx\": 9, \"val\": 51}, {\"col\": \"Data C\", \"idx\": 10, \"val\": 28}, {\"col\": \"Data C\", \"idx\": 11, \"val\": 9}, {\"col\": \"Data C\", \"idx\": 12, \"val\": 87}, {\"col\": \"Data C\", \"idx\": 13, \"val\": 45}, {\"col\": \"Data C\", \"idx\": 14, \"val\": 38}, {\"col\": \"Data C\", \"idx\": 15, \"val\": 81}, {\"col\": \"Data C\", \"idx\": 16, \"val\": 36}, {\"col\": \"Data C\", \"idx\": 17, \"val\": 47}, {\"col\": \"Data C\", \"idx\": 18, \"val\": 1}, {\"col\": \"Data C\", \"idx\": 19, \"val\": 84}, {\"col\": \"Data C\", \"idx\": 20, \"val\": 42}, {\"col\": \"Data D\", \"idx\": 0, \"val\": 6}, {\"col\": \"Data D\", \"idx\": 1, \"val\": 34}, {\"col\": \"Data D\", \"idx\": 2, \"val\": 87}, {\"col\": \"Data D\", \"idx\": 3, \"val\": 82}, {\"col\": \"Data D\", \"idx\": 4, \"val\": 4}, {\"col\": \"Data D\", \"idx\": 5, \"val\": 3}, {\"col\": \"Data D\", \"idx\": 6, \"val\": 65}, {\"col\": \"Data D\", \"idx\": 7, \"val\": 94}, {\"col\": \"Data D\", \"idx\": 8, \"val\": 57}, {\"col\": \"Data D\", \"idx\": 9, \"val\": 99}, {\"col\": \"Data D\", \"idx\": 10, \"val\": 70}, {\"col\": \"Data D\", \"idx\": 11, \"val\": 39}, {\"col\": \"Data D\", \"idx\": 12, \"val\": 48}, {\"col\": \"Data D\", \"idx\": 13, \"val\": 30}, {\"col\": \"Data D\", \"idx\": 14, \"val\": 44}, {\"col\": \"Data D\", \"idx\": 15, \"val\": 37}, {\"col\": \"Data D\", \"idx\": 16, \"val\": 66}, {\"col\": \"Data D\", \"idx\": 17, \"val\": 58}, {\"col\": \"Data D\", \"idx\": 18, \"val\": 19}, {\"col\": \"Data D\", \"idx\": 19, \"val\": 96}, {\"col\": \"Data D\", \"idx\": 20, \"val\": 46}]}], \"height\": 200, \"legends\": [{\"fill\": \"color\", \"offset\": 0, \"properties\": {}, \"title\": \"Data Categorires\"}], \"marks\": [{\"from\": {\"data\": \"table\", \"transform\": [{\"keys\": [\"data.col\"], \"type\": \"facet\"}]}, \"marks\": [{\"properties\": {\"enter\": {\"stroke\": {\"field\": \"data.col\", \"scale\": \"color\"}, \"strokeWidth\": {\"value\": 2}, \"x\": {\"field\": \"data.idx\", \"scale\": \"x\"}, \"y\": {\"field\": \"data.val\", \"scale\": \"y\"}}}, \"type\": \"line\"}], \"type\": \"group\"}], \"padding\": \"auto\", \"scales\": [{\"domain\": {\"data\": \"table\", \"field\": \"data.idx\"}, \"name\": \"x\", \"range\": \"width\", \"type\": \"linear\"}, {\"domain\": {\"data\": \"table\", \"field\": \"data.val\"}, \"name\": \"y\", \"nice\": true, \"range\": \"height\"}, {\"domain\": {\"data\": \"table\", \"field\": \"data.col\"}, \"name\": \"color\", \"range\": \"category20\", \"type\": \"ordinal\"}], \"width\": 400}, function(chart) {\n",
       "         chart({el: \"#visb2ce226000da4b6eba68c0e128590bc8\"}).update();\n",
       "       });\n",
       "     };\n",
       "     _do_plot();\n",
       "   })();\n",
       "</script>\n",
       "<style>.vega canvas {width: 100%;}</style>\n",
       "        "
      ],
      "text/plain": [
       "<IPython.core.display.HTML object>"
      ]
     },
     "metadata": {},
     "output_type": "display_data"
    }
   ],
   "source": [
    "import random\n",
    "\n",
    "# let's generate some random data for the example\n",
    "# we'll generate four sets of integers list of size 21\n",
    "# each set will have random numbers from 1 to 100\n",
    "dataLabels = ['Data A', 'Data B', 'Data C', 'Data D']\n",
    "index = range(0, 21)\n",
    "dataset = {'index': index}\n",
    "for label in dataLabels:\n",
    "    dataset[label] = [random.randint(1, 100) for val in index]\n",
    "\n",
    "# now we'll use Vincent's Line object to plot a line graph \n",
    "# for the four dataset\n",
    "line = vincent.Line(dataset, iter_idx='index')\n",
    "\n",
    "# set the size of the graph\n",
    "line.width = 400\n",
    "line.height = 200\n",
    "\n",
    "# label axes\n",
    "line.axis_titles(x='Index', y='Value')\n",
    "\n",
    "# add legend\n",
    "line.legend(title='Data Categorires')\n",
    "\n",
    "# let's see how the line graph looks\n",
    "line.display()\n"
   ]
  },
  {
   "cell_type": "markdown",
   "metadata": {},
   "source": [
    "# Line Graph\n",
    "\n",
    "Line graphs can be plotted by simply using passing a list of data to vincent.Line(data) object. But, you can also pass in a dictionary that can have multiple data list in it. The graph shown above has four data list in the dictionary that's passed as parameter to the vincent.Line(data, iter_idx) object. 'Data' is the dictionary, and 'iter_idx' is the iterative index of the dictionary. It tells Vincent iterate from the first index dataset, i.e. Data A, to last index dataset, i.e. Data D. \n",
    "\n",
    "Different colors of the lines happens by default. And, like bar graph, you can assign a variable to your graph, and you can set the window size of the graph by setting its width, and height.\n",
    "\n",
    "You can display the graph in notebook by using display() or just by simply having the graph variable. In fact, change the line.display() statement with just line, you should see the same graph.\n",
    "\n",
    "### Label Axes\n",
    "Labeling the axes is simple. Just pass in label name for x and y in axis_title(x, y) as shown above.\n",
    "\n",
    "### Legend\n",
    "Adding a legend is simple. Use the legend(title) function with the graph variable, and set the title to whatever you want to call your legend. Different colors of the legends happens by default. "
   ]
  },
  {
   "cell_type": "code",
   "execution_count": 5,
   "metadata": {
    "collapsed": false
   },
   "outputs": [
    {
     "data": {
      "text/html": [
       "<div id=\"vis68a5d733889b4749a6264f85638de011\"></div>\n",
       "<script>\n",
       "   ( function() {\n",
       "     var _do_plot = function() {\n",
       "       if (typeof vg === 'undefined') {\n",
       "         window.addEventListener('vincent_libs_loaded', _do_plot)\n",
       "         return;\n",
       "       }\n",
       "       vg.parse.spec({\"axes\": [{\"scale\": \"x\", \"title\": \"Index\", \"type\": \"x\"}, {\"scale\": \"y\", \"title\": \"Value\", \"type\": \"y\"}], \"data\": [{\"name\": \"table\", \"values\": [{\"col\": \"Data 1\", \"idx\": 1, \"val\": 13}, {\"col\": \"Data 1\", \"idx\": 2, \"val\": 29}, {\"col\": \"Data 1\", \"idx\": 3, \"val\": 97}, {\"col\": \"Data 1\", \"idx\": 4, \"val\": 48}, {\"col\": \"Data 1\", \"idx\": 5, \"val\": 29}, {\"col\": \"Data 1\", \"idx\": 6, \"val\": 60}, {\"col\": \"Data 1\", \"idx\": 7, \"val\": 82}, {\"col\": \"Data 1\", \"idx\": 8, \"val\": 23}, {\"col\": \"Data 1\", \"idx\": 9, \"val\": 43}, {\"col\": \"Data 1\", \"idx\": 10, \"val\": 56}, {\"col\": \"Data 1\", \"idx\": 11, \"val\": 70}, {\"col\": \"Data 1\", \"idx\": 12, \"val\": 89}, {\"col\": \"Data 1\", \"idx\": 13, \"val\": 12}, {\"col\": \"Data 1\", \"idx\": 14, \"val\": 18}, {\"col\": \"Data 1\", \"idx\": 15, \"val\": 31}, {\"col\": \"Data 1\", \"idx\": 16, \"val\": 80}, {\"col\": \"Data 1\", \"idx\": 17, \"val\": 11}, {\"col\": \"Data 1\", \"idx\": 18, \"val\": 43}, {\"col\": \"Data 1\", \"idx\": 19, \"val\": 20}, {\"col\": \"Data 1\", \"idx\": 20, \"val\": 24}, {\"col\": \"Data 2\", \"idx\": 1, \"val\": 93}, {\"col\": \"Data 2\", \"idx\": 2, \"val\": 78}, {\"col\": \"Data 2\", \"idx\": 3, \"val\": 50}, {\"col\": \"Data 2\", \"idx\": 4, \"val\": 33}, {\"col\": \"Data 2\", \"idx\": 5, \"val\": 69}, {\"col\": \"Data 2\", \"idx\": 6, \"val\": 55}, {\"col\": \"Data 2\", \"idx\": 7, \"val\": 80}, {\"col\": \"Data 2\", \"idx\": 8, \"val\": 13}, {\"col\": \"Data 2\", \"idx\": 9, \"val\": 77}, {\"col\": \"Data 2\", \"idx\": 10, \"val\": 59}, {\"col\": \"Data 2\", \"idx\": 11, \"val\": 97}, {\"col\": \"Data 2\", \"idx\": 12, \"val\": 37}, {\"col\": \"Data 2\", \"idx\": 13, \"val\": 63}, {\"col\": \"Data 2\", \"idx\": 14, \"val\": 69}, {\"col\": \"Data 2\", \"idx\": 15, \"val\": 66}, {\"col\": \"Data 2\", \"idx\": 16, \"val\": 31}, {\"col\": \"Data 2\", \"idx\": 17, \"val\": 91}, {\"col\": \"Data 2\", \"idx\": 18, \"val\": 57}, {\"col\": \"Data 2\", \"idx\": 19, \"val\": 95}, {\"col\": \"Data 2\", \"idx\": 20, \"val\": 66}, {\"col\": \"Data 3\", \"idx\": 1, \"val\": 48}, {\"col\": \"Data 3\", \"idx\": 2, \"val\": 66}, {\"col\": \"Data 3\", \"idx\": 3, \"val\": 66}, {\"col\": \"Data 3\", \"idx\": 4, \"val\": 11}, {\"col\": \"Data 3\", \"idx\": 5, \"val\": 78}, {\"col\": \"Data 3\", \"idx\": 6, \"val\": 53}, {\"col\": \"Data 3\", \"idx\": 7, \"val\": 40}, {\"col\": \"Data 3\", \"idx\": 8, \"val\": 49}, {\"col\": \"Data 3\", \"idx\": 9, \"val\": 83}, {\"col\": \"Data 3\", \"idx\": 10, \"val\": 60}, {\"col\": \"Data 3\", \"idx\": 11, \"val\": 23}, {\"col\": \"Data 3\", \"idx\": 12, \"val\": 83}, {\"col\": \"Data 3\", \"idx\": 13, \"val\": 24}, {\"col\": \"Data 3\", \"idx\": 14, \"val\": 27}, {\"col\": \"Data 3\", \"idx\": 15, \"val\": 26}, {\"col\": \"Data 3\", \"idx\": 16, \"val\": 52}, {\"col\": \"Data 3\", \"idx\": 17, \"val\": 22}, {\"col\": \"Data 3\", \"idx\": 18, \"val\": 58}, {\"col\": \"Data 3\", \"idx\": 19, \"val\": 89}, {\"col\": \"Data 3\", \"idx\": 20, \"val\": 42}, {\"col\": \"Data 4\", \"idx\": 1, \"val\": 17}, {\"col\": \"Data 4\", \"idx\": 2, \"val\": 21}, {\"col\": \"Data 4\", \"idx\": 3, \"val\": 99}, {\"col\": \"Data 4\", \"idx\": 4, \"val\": 95}, {\"col\": \"Data 4\", \"idx\": 5, \"val\": 30}, {\"col\": \"Data 4\", \"idx\": 6, \"val\": 12}, {\"col\": \"Data 4\", \"idx\": 7, \"val\": 96}, {\"col\": \"Data 4\", \"idx\": 8, \"val\": 56}, {\"col\": \"Data 4\", \"idx\": 9, \"val\": 79}, {\"col\": \"Data 4\", \"idx\": 10, \"val\": 88}, {\"col\": \"Data 4\", \"idx\": 11, \"val\": 12}, {\"col\": \"Data 4\", \"idx\": 12, \"val\": 93}, {\"col\": \"Data 4\", \"idx\": 13, \"val\": 88}, {\"col\": \"Data 4\", \"idx\": 14, \"val\": 55}, {\"col\": \"Data 4\", \"idx\": 15, \"val\": 89}, {\"col\": \"Data 4\", \"idx\": 16, \"val\": 80}, {\"col\": \"Data 4\", \"idx\": 17, \"val\": 58}, {\"col\": \"Data 4\", \"idx\": 18, \"val\": 82}, {\"col\": \"Data 4\", \"idx\": 19, \"val\": 25}, {\"col\": \"Data 4\", \"idx\": 20, \"val\": 50}, {\"col\": \"Data 5\", \"idx\": 1, \"val\": 39}, {\"col\": \"Data 5\", \"idx\": 2, \"val\": 45}, {\"col\": \"Data 5\", \"idx\": 3, \"val\": 41}, {\"col\": \"Data 5\", \"idx\": 4, \"val\": 42}, {\"col\": \"Data 5\", \"idx\": 5, \"val\": 14}, {\"col\": \"Data 5\", \"idx\": 6, \"val\": 13}, {\"col\": \"Data 5\", \"idx\": 7, \"val\": 85}, {\"col\": \"Data 5\", \"idx\": 8, \"val\": 15}, {\"col\": \"Data 5\", \"idx\": 9, \"val\": 15}, {\"col\": \"Data 5\", \"idx\": 10, \"val\": 19}, {\"col\": \"Data 5\", \"idx\": 11, \"val\": 10}, {\"col\": \"Data 5\", \"idx\": 12, \"val\": 12}, {\"col\": \"Data 5\", \"idx\": 13, \"val\": 32}, {\"col\": \"Data 5\", \"idx\": 14, \"val\": 39}, {\"col\": \"Data 5\", \"idx\": 15, \"val\": 80}, {\"col\": \"Data 5\", \"idx\": 16, \"val\": 56}, {\"col\": \"Data 5\", \"idx\": 17, \"val\": 90}, {\"col\": \"Data 5\", \"idx\": 18, \"val\": 24}, {\"col\": \"Data 5\", \"idx\": 19, \"val\": 29}, {\"col\": \"Data 5\", \"idx\": 20, \"val\": 23}, {\"col\": \"Data 6\", \"idx\": 1, \"val\": 42}, {\"col\": \"Data 6\", \"idx\": 2, \"val\": 92}, {\"col\": \"Data 6\", \"idx\": 3, \"val\": 35}, {\"col\": \"Data 6\", \"idx\": 4, \"val\": 56}, {\"col\": \"Data 6\", \"idx\": 5, \"val\": 70}, {\"col\": \"Data 6\", \"idx\": 6, \"val\": 52}, {\"col\": \"Data 6\", \"idx\": 7, \"val\": 84}, {\"col\": \"Data 6\", \"idx\": 8, \"val\": 88}, {\"col\": \"Data 6\", \"idx\": 9, \"val\": 21}, {\"col\": \"Data 6\", \"idx\": 10, \"val\": 78}, {\"col\": \"Data 6\", \"idx\": 11, \"val\": 21}, {\"col\": \"Data 6\", \"idx\": 12, \"val\": 99}, {\"col\": \"Data 6\", \"idx\": 13, \"val\": 81}, {\"col\": \"Data 6\", \"idx\": 14, \"val\": 73}, {\"col\": \"Data 6\", \"idx\": 15, \"val\": 53}, {\"col\": \"Data 6\", \"idx\": 16, \"val\": 53}, {\"col\": \"Data 6\", \"idx\": 17, \"val\": 91}, {\"col\": \"Data 6\", \"idx\": 18, \"val\": 61}, {\"col\": \"Data 6\", \"idx\": 19, \"val\": 28}, {\"col\": \"Data 6\", \"idx\": 20, \"val\": 26}, {\"col\": \"Data 7\", \"idx\": 1, \"val\": 57}, {\"col\": \"Data 7\", \"idx\": 2, \"val\": 59}, {\"col\": \"Data 7\", \"idx\": 3, \"val\": 100}, {\"col\": \"Data 7\", \"idx\": 4, \"val\": 52}, {\"col\": \"Data 7\", \"idx\": 5, \"val\": 61}, {\"col\": \"Data 7\", \"idx\": 6, \"val\": 88}, {\"col\": \"Data 7\", \"idx\": 7, \"val\": 90}, {\"col\": \"Data 7\", \"idx\": 8, \"val\": 19}, {\"col\": \"Data 7\", \"idx\": 9, \"val\": 54}, {\"col\": \"Data 7\", \"idx\": 10, \"val\": 56}, {\"col\": \"Data 7\", \"idx\": 11, \"val\": 38}, {\"col\": \"Data 7\", \"idx\": 12, \"val\": 13}, {\"col\": \"Data 7\", \"idx\": 13, \"val\": 11}, {\"col\": \"Data 7\", \"idx\": 14, \"val\": 18}, {\"col\": \"Data 7\", \"idx\": 15, \"val\": 34}, {\"col\": \"Data 7\", \"idx\": 16, \"val\": 82}, {\"col\": \"Data 7\", \"idx\": 17, \"val\": 71}, {\"col\": \"Data 7\", \"idx\": 18, \"val\": 33}, {\"col\": \"Data 7\", \"idx\": 19, \"val\": 56}, {\"col\": \"Data 7\", \"idx\": 20, \"val\": 88}, {\"col\": \"Data 8\", \"idx\": 1, \"val\": 81}, {\"col\": \"Data 8\", \"idx\": 2, \"val\": 20}, {\"col\": \"Data 8\", \"idx\": 3, \"val\": 31}, {\"col\": \"Data 8\", \"idx\": 4, \"val\": 97}, {\"col\": \"Data 8\", \"idx\": 5, \"val\": 82}, {\"col\": \"Data 8\", \"idx\": 6, \"val\": 87}, {\"col\": \"Data 8\", \"idx\": 7, \"val\": 75}, {\"col\": \"Data 8\", \"idx\": 8, \"val\": 81}, {\"col\": \"Data 8\", \"idx\": 9, \"val\": 79}, {\"col\": \"Data 8\", \"idx\": 10, \"val\": 24}, {\"col\": \"Data 8\", \"idx\": 11, \"val\": 13}, {\"col\": \"Data 8\", \"idx\": 12, \"val\": 21}, {\"col\": \"Data 8\", \"idx\": 13, \"val\": 30}, {\"col\": \"Data 8\", \"idx\": 14, \"val\": 83}, {\"col\": \"Data 8\", \"idx\": 15, \"val\": 38}, {\"col\": \"Data 8\", \"idx\": 16, \"val\": 42}, {\"col\": \"Data 8\", \"idx\": 17, \"val\": 12}, {\"col\": \"Data 8\", \"idx\": 18, \"val\": 82}, {\"col\": \"Data 8\", \"idx\": 19, \"val\": 95}, {\"col\": \"Data 8\", \"idx\": 20, \"val\": 92}, {\"col\": \"Data 9\", \"idx\": 1, \"val\": 42}, {\"col\": \"Data 9\", \"idx\": 2, \"val\": 77}, {\"col\": \"Data 9\", \"idx\": 3, \"val\": 97}, {\"col\": \"Data 9\", \"idx\": 4, \"val\": 29}, {\"col\": \"Data 9\", \"idx\": 5, \"val\": 27}, {\"col\": \"Data 9\", \"idx\": 6, \"val\": 54}, {\"col\": \"Data 9\", \"idx\": 7, \"val\": 12}, {\"col\": \"Data 9\", \"idx\": 8, \"val\": 29}, {\"col\": \"Data 9\", \"idx\": 9, \"val\": 27}, {\"col\": \"Data 9\", \"idx\": 10, \"val\": 41}, {\"col\": \"Data 9\", \"idx\": 11, \"val\": 82}, {\"col\": \"Data 9\", \"idx\": 12, \"val\": 82}, {\"col\": \"Data 9\", \"idx\": 13, \"val\": 95}, {\"col\": \"Data 9\", \"idx\": 14, \"val\": 85}, {\"col\": \"Data 9\", \"idx\": 15, \"val\": 36}, {\"col\": \"Data 9\", \"idx\": 16, \"val\": 100}, {\"col\": \"Data 9\", \"idx\": 17, \"val\": 41}, {\"col\": \"Data 9\", \"idx\": 18, \"val\": 69}, {\"col\": \"Data 9\", \"idx\": 19, \"val\": 89}, {\"col\": \"Data 9\", \"idx\": 20, \"val\": 14}]}], \"height\": 200, \"legends\": [{\"fill\": \"color\", \"offset\": 0, \"properties\": {}, \"title\": \"Data Categorires\"}], \"marks\": [{\"from\": {\"data\": \"table\", \"transform\": [{\"keys\": [\"data.col\"], \"type\": \"facet\"}]}, \"marks\": [{\"properties\": {\"enter\": {\"fill\": {\"field\": \"data.col\", \"scale\": \"color\"}, \"size\": {\"value\": 100}, \"x\": {\"field\": \"data.idx\", \"scale\": \"x\"}, \"y\": {\"field\": \"data.val\", \"scale\": \"y\"}}}, \"type\": \"symbol\"}], \"type\": \"group\"}], \"padding\": \"auto\", \"scales\": [{\"domain\": {\"data\": \"table\", \"field\": \"data.idx\"}, \"name\": \"x\", \"range\": \"width\", \"type\": \"linear\"}, {\"domain\": {\"data\": \"table\", \"field\": \"data.val\"}, \"name\": \"y\", \"nice\": true, \"range\": \"height\"}, {\"domain\": {\"data\": \"table\", \"field\": \"data.col\"}, \"name\": \"color\", \"range\": \"category20\", \"type\": \"ordinal\"}], \"width\": 400}, function(chart) {\n",
       "         chart({el: \"#vis68a5d733889b4749a6264f85638de011\"}).update();\n",
       "       });\n",
       "     };\n",
       "     _do_plot();\n",
       "   })();\n",
       "</script>\n",
       "<style>.vega canvas {width: 100%;}</style>\n",
       "        "
      ],
      "text/plain": [
       "<IPython.core.display.HTML object>"
      ]
     },
     "metadata": {},
     "output_type": "display_data"
    }
   ],
   "source": [
    "import random\n",
    "\n",
    "# let's generate some random data for the example\n",
    "# we'll generate 9 sets of integers list of size 20\n",
    "# each set will have random numbers from 10 to 100\n",
    "dataLabels2 = ['Data ' + str(x) for x in range(1,10)]\n",
    "index2 = range(1, 21)\n",
    "dataset2 = {'index': index2}\n",
    "for label in dataLabels2:\n",
    "    dataset2[label] = [random.randint(10, 100) for val in index2]\n",
    "\n",
    "# now we'll use Vincent's Scatter object to plot a scatter plot \n",
    "# for the four dataset\n",
    "scatter = vincent.Scatter(dataset2, iter_idx='index')\n",
    "\n",
    "# set the size of the graph\n",
    "scatter.width = 400\n",
    "scatter.height = 200\n",
    "\n",
    "# label axes\n",
    "scatter.axis_titles(x='Index', y='Value')\n",
    "\n",
    "# add legend\n",
    "scatter.legend(title='Data Categorires')\n",
    "\n",
    "# let's see how the line graph looks\n",
    "scatter.display()\n",
    "\n"
   ]
  },
  {
   "cell_type": "markdown",
   "metadata": {},
   "source": [
    "# Scatter Plot\n",
    "\n",
    "Scatter plots can be plotted by simply passing a list of data to vincent.Line(data) object. But, you can also pass in a dictionary that can have multiple data list in it. The graph shown above has nine data list in the dictionary that's passed as parameter to the vincent.Scatter(data, iter_idx) object. 'Data' is the dictionary, and 'iter_idx' is the iterative index of the dictionary. It tells Vincent to iterate from first index dataset, i.e. Data 1, to last index dataset, i.e. Data 9. \n",
    "\n",
    "You can display the graph in notebook by using display() or just by simply having the graph variable. In fact, change the scatter.display() statement with just scatter, you should see the same graph.\n",
    "\n",
    "### Label Axes\n",
    "Labeling the axes is simple. Just pass in label name for x and y in axis_title(x, y) as shown above.\n",
    "\n",
    "### Legend\n",
    "Adding a legend is simple. Use the legend(title) function with the graph variable, and set the title to whatever you want to call your legend. Different colors of the legends happens by default. "
   ]
  },
  {
   "cell_type": "markdown",
   "metadata": {},
   "source": [
    "========================================================================="
   ]
  },
  {
   "cell_type": "code",
   "execution_count": 27,
   "metadata": {
    "collapsed": false
   },
   "outputs": [],
   "source": [
    "# WORKING WITH REAL WORLD DATA\n",
    "import os\n",
    "\n",
    "# sometimes the real world data may not be in the format that we want like\n",
    "# this one. Dataset is originally in .data format, so let's change it to\n",
    "# .csv format. It's as simply as renaming the .data to .csv as we did here.\n",
    "if (os.path.isfile('dow_jones_index/dow_jones_index.data')):\n",
    "    os.rename('dow_jones_index/dow_jones_index.data', \n",
    "              'dow_jones_index/dow_jones_index.csv')\n"
   ]
  },
  {
   "cell_type": "markdown",
   "metadata": {},
   "source": [
    "# More complex graph with real world data\n",
    "\n",
    "Hopefully, at this point, you are familiar with plotting differnt graphs using Vincent. Pretty easy, isn't it. Now, we'll plot something more complex, a real world dataset. And, we'll walk through each step in the process.\n",
    "\n",
    "Our real world dataset is extracted from http://archive.ics.uci.edu/ml/datasets/Dow+Jones+Index# . It is a dataset of 'Dow Jones Industrial Average' in 2011 for the first two quarters, i.e. Jan - Mar is 1st quarter, and Apr - June is 2nd quarter. It has 16 attributes or columns, and 750 instances or rows.\n",
    "\n",
    "Some times, real world dataset may not be in the format you want. For instance, this dataset is in .data format, but for our convenience, we want it in csv format. How do we do it? It's actually very simple, as simple as renaming the .data extension to .csv extension. That's exactly what we did in the code above. Now, we have our data in csv, and we're ready to do something with it.  "
   ]
  },
  {
   "cell_type": "code",
   "execution_count": 23,
   "metadata": {
    "collapsed": false
   },
   "outputs": [
    {
     "data": {
      "text/html": [
       "<div>\n",
       "<table border=\"1\" class=\"dataframe\">\n",
       "  <thead>\n",
       "    <tr style=\"text-align: right;\">\n",
       "      <th></th>\n",
       "      <th>0</th>\n",
       "    </tr>\n",
       "  </thead>\n",
       "  <tbody>\n",
       "    <tr>\n",
       "      <th>2011-01-07</th>\n",
       "      <td>16.42</td>\n",
       "    </tr>\n",
       "    <tr>\n",
       "      <th>2011-01-14</th>\n",
       "      <td>15.97</td>\n",
       "    </tr>\n",
       "    <tr>\n",
       "      <th>2011-01-21</th>\n",
       "      <td>15.79</td>\n",
       "    </tr>\n",
       "    <tr>\n",
       "      <th>2011-01-28</th>\n",
       "      <td>16.13</td>\n",
       "    </tr>\n",
       "    <tr>\n",
       "      <th>2011-02-04</th>\n",
       "      <td>17.14</td>\n",
       "    </tr>\n",
       "    <tr>\n",
       "      <th>2011-02-11</th>\n",
       "      <td>17.37</td>\n",
       "    </tr>\n",
       "    <tr>\n",
       "      <th>2011-02-18</th>\n",
       "      <td>17.28</td>\n",
       "    </tr>\n",
       "    <tr>\n",
       "      <th>2011-02-25</th>\n",
       "      <td>16.68</td>\n",
       "    </tr>\n",
       "    <tr>\n",
       "      <th>2011-03-04</th>\n",
       "      <td>16.58</td>\n",
       "    </tr>\n",
       "    <tr>\n",
       "      <th>2011-03-11</th>\n",
       "      <td>16.03</td>\n",
       "    </tr>\n",
       "    <tr>\n",
       "      <th>2011-03-18</th>\n",
       "      <td>16.11</td>\n",
       "    </tr>\n",
       "    <tr>\n",
       "      <th>2011-03-25</th>\n",
       "      <td>17.09</td>\n",
       "    </tr>\n",
       "    <tr>\n",
       "      <th>2011-04-01</th>\n",
       "      <td>17.47</td>\n",
       "    </tr>\n",
       "    <tr>\n",
       "      <th>2011-04-08</th>\n",
       "      <td>17.92</td>\n",
       "    </tr>\n",
       "    <tr>\n",
       "      <th>2011-04-15</th>\n",
       "      <td>16.52</td>\n",
       "    </tr>\n",
       "    <tr>\n",
       "      <th>2011-04-21</th>\n",
       "      <td>16.97</td>\n",
       "    </tr>\n",
       "    <tr>\n",
       "      <th>2011-04-29</th>\n",
       "      <td>17.00</td>\n",
       "    </tr>\n",
       "    <tr>\n",
       "      <th>2011-05-06</th>\n",
       "      <td>17.15</td>\n",
       "    </tr>\n",
       "    <tr>\n",
       "      <th>2011-05-13</th>\n",
       "      <td>17.10</td>\n",
       "    </tr>\n",
       "    <tr>\n",
       "      <th>2011-05-20</th>\n",
       "      <td>16.26</td>\n",
       "    </tr>\n",
       "    <tr>\n",
       "      <th>2011-05-27</th>\n",
       "      <td>16.48</td>\n",
       "    </tr>\n",
       "    <tr>\n",
       "      <th>2011-06-03</th>\n",
       "      <td>15.92</td>\n",
       "    </tr>\n",
       "    <tr>\n",
       "      <th>2011-06-10</th>\n",
       "      <td>15.28</td>\n",
       "    </tr>\n",
       "    <tr>\n",
       "      <th>2011-06-17</th>\n",
       "      <td>14.72</td>\n",
       "    </tr>\n",
       "    <tr>\n",
       "      <th>2011-06-24</th>\n",
       "      <td>15.23</td>\n",
       "    </tr>\n",
       "  </tbody>\n",
       "</table>\n",
       "</div>"
      ],
      "text/plain": [
       "                0\n",
       "2011-01-07  16.42\n",
       "2011-01-14  15.97\n",
       "2011-01-21  15.79\n",
       "2011-01-28  16.13\n",
       "2011-02-04  17.14\n",
       "2011-02-11  17.37\n",
       "2011-02-18  17.28\n",
       "2011-02-25  16.68\n",
       "2011-03-04  16.58\n",
       "2011-03-11  16.03\n",
       "2011-03-18  16.11\n",
       "2011-03-25  17.09\n",
       "2011-04-01  17.47\n",
       "2011-04-08  17.92\n",
       "2011-04-15  16.52\n",
       "2011-04-21  16.97\n",
       "2011-04-29  17.00\n",
       "2011-05-06  17.15\n",
       "2011-05-13  17.10\n",
       "2011-05-20  16.26\n",
       "2011-05-27  16.48\n",
       "2011-06-03  15.92\n",
       "2011-06-10  15.28\n",
       "2011-06-17  14.72\n",
       "2011-06-24  15.23"
      ]
     },
     "execution_count": 23,
     "metadata": {},
     "output_type": "execute_result"
    }
   ],
   "source": [
    "import pandas as pd\n",
    "\n",
    "# read the csv file using pandas\n",
    "df = pd.read_csv('dow_jones_index/dow_jones_index.csv', na_values=['EMPTY'])\n",
    "x_axis = []\n",
    "y_axis = []\n",
    "\n",
    "for row in df.iterrows():\n",
    "    if(row[1]['stock'] == 'AA'):\n",
    "        datetime = pd.to_datetime(row[1]['date'])\n",
    "        x_axis.append(datetime.date())           # only date from datetime\n",
    "        close = row[1]['close']\n",
    "        y_axis.append(float(close[1:]))          # take off $ sign\n",
    "line = vincent.Line(y_axis)\n",
    "line.width = 400\n",
    "line.height = 200\n",
    "line\n",
    "df = pd.DataFrame(data=y_axis, index=x_axis)\n",
    "\n",
    "vincent.Line(df)\n",
    "df"
   ]
  },
  {
   "cell_type": "code",
   "execution_count": null,
   "metadata": {
    "collapsed": false
   },
   "outputs": [],
   "source": []
  },
  {
   "cell_type": "code",
   "execution_count": 34,
   "metadata": {
    "collapsed": false
   },
   "outputs": [
    {
     "data": {
      "text/html": [
       "<div id=\"vis57002107d6d843beb2597eb6d4cd9725\"></div>\n",
       "<script>\n",
       "   ( function() {\n",
       "     var _do_plot = function() {\n",
       "       if (typeof vg === 'undefined') {\n",
       "         window.addEventListener('vincent_libs_loaded', _do_plot)\n",
       "         return;\n",
       "       }\n",
       "       vg.parse.spec({\"axes\": [{\"scale\": \"x\", \"title\": \"Date\", \"type\": \"x\"}, {\"scale\": \"y\", \"title\": \"Price\", \"type\": \"y\"}], \"data\": [{\"name\": \"table\", \"values\": [{\"col\": \"AAPL\", \"idx\": 1460088000000, \"val\": 108.00243700000001}, {\"col\": \"MSFT\", \"idx\": 1460088000000, \"val\": 54.419998}, {\"col\": \"YHOO\", \"idx\": 1460088000000, \"val\": 36.07}, {\"col\": \"AAPL\", \"idx\": 1460347200000, \"val\": 108.360251}, {\"col\": \"MSFT\", \"idx\": 1460347200000, \"val\": 54.310001}, {\"col\": \"YHOO\", \"idx\": 1460347200000, \"val\": 36.48}, {\"col\": \"AAPL\", \"idx\": 1460433600000, \"val\": 109.77166399999999}, {\"col\": \"MSFT\", \"idx\": 1460433600000, \"val\": 54.650002}, {\"col\": \"YHOO\", \"idx\": 1460433600000, \"val\": 36.66}, {\"col\": \"AAPL\", \"idx\": 1460520000000, \"val\": 111.36198}, {\"col\": \"MSFT\", \"idx\": 1460520000000, \"val\": 55.349998}, {\"col\": \"YHOO\", \"idx\": 1460520000000, \"val\": 37.310001}, {\"col\": \"AAPL\", \"idx\": 1460606400000, \"val\": 111.42161399999999}, {\"col\": \"MSFT\", \"idx\": 1460606400000, \"val\": 55.360001000000004}, {\"col\": \"YHOO\", \"idx\": 1460606400000, \"val\": 37.169998}, {\"col\": \"AAPL\", \"idx\": 1460692800000, \"val\": 109.18523}, {\"col\": \"MSFT\", \"idx\": 1460692800000, \"val\": 55.650002}, {\"col\": \"YHOO\", \"idx\": 1460692800000, \"val\": 36.509997999999996}, {\"col\": \"AAPL\", \"idx\": 1460952000000, \"val\": 106.829577}, {\"col\": \"MSFT\", \"idx\": 1460952000000, \"val\": 56.459998999999996}, {\"col\": \"YHOO\", \"idx\": 1460952000000, \"val\": 36.52}, {\"col\": \"AAPL\", \"idx\": 1461038400000, \"val\": 106.26302700000001}, {\"col\": \"MSFT\", \"idx\": 1461038400000, \"val\": 56.389998999999996}, {\"col\": \"YHOO\", \"idx\": 1461038400000, \"val\": 36.330002}, {\"col\": \"AAPL\", \"idx\": 1461124800000, \"val\": 106.48168899999999}, {\"col\": \"MSFT\", \"idx\": 1461124800000, \"val\": 55.59}, {\"col\": \"YHOO\", \"idx\": 1461124800000, \"val\": 37.84}, {\"col\": \"AAPL\", \"idx\": 1461211200000, \"val\": 105.328713}, {\"col\": \"MSFT\", \"idx\": 1461211200000, \"val\": 55.779999}, {\"col\": \"YHOO\", \"idx\": 1461211200000, \"val\": 37.669998}, {\"col\": \"AAPL\", \"idx\": 1461297600000, \"val\": 105.04046699999999}, {\"col\": \"MSFT\", \"idx\": 1461297600000, \"val\": 51.779999}, {\"col\": \"YHOO\", \"idx\": 1461297600000, \"val\": 37.48}, {\"col\": \"AAPL\", \"idx\": 1461556800000, \"val\": 104.4441}, {\"col\": \"MSFT\", \"idx\": 1461556800000, \"val\": 52.110001000000004}, {\"col\": \"YHOO\", \"idx\": 1461556800000, \"val\": 37.23}, {\"col\": \"AAPL\", \"idx\": 1461643200000, \"val\": 103.718514}, {\"col\": \"MSFT\", \"idx\": 1461643200000, \"val\": 51.439999}, {\"col\": \"YHOO\", \"idx\": 1461643200000, \"val\": 37.110001000000004}, {\"col\": \"AAPL\", \"idx\": 1461729600000, \"val\": 97.228032}, {\"col\": \"MSFT\", \"idx\": 1461729600000, \"val\": 50.939999}, {\"col\": \"YHOO\", \"idx\": 1461729600000, \"val\": 36.950001}, {\"col\": \"AAPL\", \"idx\": 1461816000000, \"val\": 94.256129}, {\"col\": \"MSFT\", \"idx\": 1461816000000, \"val\": 49.900002}, {\"col\": \"YHOO\", \"idx\": 1461816000000, \"val\": 36.59}, {\"col\": \"AAPL\", \"idx\": 1461902400000, \"val\": 93.172721}, {\"col\": \"MSFT\", \"idx\": 1461902400000, \"val\": 49.869999}, {\"col\": \"YHOO\", \"idx\": 1461902400000, \"val\": 36.599998}, {\"col\": \"AAPL\", \"idx\": 1462161600000, \"val\": 93.073328}, {\"col\": \"MSFT\", \"idx\": 1462161600000, \"val\": 50.610001000000004}, {\"col\": \"YHOO\", \"idx\": 1462161600000, \"val\": 36.529999}, {\"col\": \"AAPL\", \"idx\": 1462248000000, \"val\": 94.60400899999999}, {\"col\": \"MSFT\", \"idx\": 1462248000000, \"val\": 49.779999}, {\"col\": \"YHOO\", \"idx\": 1462248000000, \"val\": 36.009997999999996}, {\"col\": \"AAPL\", \"idx\": 1462334400000, \"val\": 93.620002}, {\"col\": \"MSFT\", \"idx\": 1462334400000, \"val\": 49.869999}, {\"col\": \"YHOO\", \"idx\": 1462334400000, \"val\": 36.0}, {\"col\": \"AAPL\", \"idx\": 1462420800000, \"val\": 93.239998}, {\"col\": \"MSFT\", \"idx\": 1462420800000, \"val\": 49.939999}, {\"col\": \"YHOO\", \"idx\": 1462420800000, \"val\": 36.939999}, {\"col\": \"AAPL\", \"idx\": 1462507200000, \"val\": 92.720001}, {\"col\": \"MSFT\", \"idx\": 1462507200000, \"val\": 50.389998999999996}, {\"col\": \"YHOO\", \"idx\": 1462507200000, \"val\": 37.23}]}], \"height\": 350, \"legends\": [{\"fill\": \"color\", \"offset\": 0, \"properties\": {}, \"title\": \"Stocks\"}], \"marks\": [{\"from\": {\"data\": \"table\", \"transform\": [{\"keys\": [\"data.col\"], \"type\": \"facet\"}]}, \"marks\": [{\"properties\": {\"enter\": {\"stroke\": {\"field\": \"data.col\", \"scale\": \"color\"}, \"strokeWidth\": {\"value\": 2}, \"x\": {\"field\": \"data.idx\", \"scale\": \"x\"}, \"y\": {\"field\": \"data.val\", \"scale\": \"y\"}}}, \"type\": \"line\"}], \"type\": \"group\"}], \"padding\": \"auto\", \"scales\": [{\"domain\": {\"data\": \"table\", \"field\": \"data.idx\"}, \"name\": \"x\", \"range\": \"width\", \"type\": \"time\"}, {\"domain\": {\"data\": \"table\", \"field\": \"data.val\"}, \"name\": \"y\", \"nice\": true, \"range\": \"height\"}, {\"domain\": {\"data\": \"table\", \"field\": \"data.col\"}, \"name\": \"color\", \"range\": \"category20\", \"type\": \"ordinal\"}], \"width\": 500}, function(chart) {\n",
       "         chart({el: \"#vis57002107d6d843beb2597eb6d4cd9725\"}).update();\n",
       "       });\n",
       "     };\n",
       "     _do_plot();\n",
       "   })();\n",
       "</script>\n",
       "<style>.vega canvas {width: 100%;}</style>\n",
       "        "
      ],
      "text/plain": [
       "<vincent.charts.Line at 0x10cf26c88>"
      ]
     },
     "execution_count": 34,
     "metadata": {},
     "output_type": "execute_result"
    }
   ],
   "source": [
    "import pandas.io.data as web\n",
    "all_data = {}\n",
    "for ticker in ['AAPL', 'MSFT', 'YHOO']:\n",
    "    all_data[ticker] = web.get_data_yahoo(ticker, '4/8/2016', '5/8/2016')\n",
    "price = pd.DataFrame({tic: data['Adj Close']\n",
    "                      for tic, data in all_data.items()})\n",
    "line = vincent.Line(price[['AAPL', 'MSFT', 'YHOO']])\n",
    "line.axis_titles(x='Date', y='Price')\n",
    "line.legend(title='Stocks')\n",
    "line.width = 500\n",
    "line.height = 350\n",
    "line"
   ]
  },
  {
   "cell_type": "code",
   "execution_count": null,
   "metadata": {
    "collapsed": true
   },
   "outputs": [],
   "source": []
  }
 ],
 "metadata": {
  "kernelspec": {
   "display_name": "Python 3",
   "language": "python",
   "name": "python3"
  },
  "language_info": {
   "codemirror_mode": {
    "name": "ipython",
    "version": 3
   },
   "file_extension": ".py",
   "mimetype": "text/x-python",
   "name": "python",
   "nbconvert_exporter": "python",
   "pygments_lexer": "ipython3",
   "version": "3.5.1"
  }
 },
 "nbformat": 4,
 "nbformat_minor": 0
}
